{
 "cells": [
  {
   "cell_type": "code",
   "execution_count": 38,
   "metadata": {
    "collapsed": true
   },
   "outputs": [],
   "source": [
    "import pandas as pd\n",
    "import numpy as np\n",
    "import geopandas as gpd\n",
    "import matplotlib.pyplot as plt\n",
    "import pyproj\n",
    "import seaborn as sns\n",
    "\n",
    "\n",
    "from sklearn.linear_model import LinearRegression\n",
    "import statsmodels.api as sm\n",
    "from statsmodels.graphics.gofplots import qqplot"
   ]
  },
  {
   "cell_type": "markdown",
   "source": [
    "Exploring relevant spatial data for use in analysis."
   ],
   "metadata": {
    "collapsed": false,
    "pycharm": {
     "name": "#%% md\n"
    }
   }
  },
  {
   "cell_type": "markdown",
   "source": [
    "Comparing two shapefiles to see which might be best to represent Leeds."
   ],
   "metadata": {
    "collapsed": false,
    "pycharm": {
     "name": "#%% md\n"
    }
   }
  },
  {
   "cell_type": "code",
   "execution_count": 39,
   "metadata": {
    "pycharm": {
     "name": "#%%\n"
    }
   },
   "outputs": [],
   "source": [
    "#Importing datasets for comparison\n",
    "leeds_counties_unitary = gpd.read_file('Data/Boundaries/Counties_and_Unitary_Authorities_(December_2020)_UK_BFC.shp')\n",
    "LA_district = gpd.read_file(\"Data/Boundaries/Local_Authority_Districts_(December_2020)_UK_BFC.shp\")"
   ]
  },
  {
   "cell_type": "markdown",
   "metadata": {
    "pycharm": {
     "name": "#%% md\n"
    }
   },
   "source": [
    "Let's look at the counties and unitary authorities data"
   ]
  },
  {
   "cell_type": "code",
   "execution_count": 40,
   "outputs": [
    {
     "data": {
      "text/plain": "   OBJECTID  CTYUA20CD CTYUA20NM CTYUA20NMW   BNG_E   BNG_N     LONG  \\\n0        91  E08000035     Leeds       None  432528  436384 -1.50736   \n\n        LAT    Shape__Are    Shape__Len  \\\n0  53.82273  5.517065e+08  161521.90936   \n\n                                            geometry  \n0  POLYGON ((443381.702 450063.500, 443370.398 45...  ",
      "text/html": "<div>\n<style scoped>\n    .dataframe tbody tr th:only-of-type {\n        vertical-align: middle;\n    }\n\n    .dataframe tbody tr th {\n        vertical-align: top;\n    }\n\n    .dataframe thead th {\n        text-align: right;\n    }\n</style>\n<table border=\"1\" class=\"dataframe\">\n  <thead>\n    <tr style=\"text-align: right;\">\n      <th></th>\n      <th>OBJECTID</th>\n      <th>CTYUA20CD</th>\n      <th>CTYUA20NM</th>\n      <th>CTYUA20NMW</th>\n      <th>BNG_E</th>\n      <th>BNG_N</th>\n      <th>LONG</th>\n      <th>LAT</th>\n      <th>Shape__Are</th>\n      <th>Shape__Len</th>\n      <th>geometry</th>\n    </tr>\n  </thead>\n  <tbody>\n    <tr>\n      <th>0</th>\n      <td>91</td>\n      <td>E08000035</td>\n      <td>Leeds</td>\n      <td>None</td>\n      <td>432528</td>\n      <td>436384</td>\n      <td>-1.50736</td>\n      <td>53.82273</td>\n      <td>5.517065e+08</td>\n      <td>161521.90936</td>\n      <td>POLYGON ((443381.702 450063.500, 443370.398 45...</td>\n    </tr>\n  </tbody>\n</table>\n</div>"
     },
     "execution_count": 40,
     "metadata": {},
     "output_type": "execute_result"
    }
   ],
   "source": [
    "leeds_counties_unitary.head()"
   ],
   "metadata": {
    "collapsed": false,
    "pycharm": {
     "name": "#%%\n"
    }
   }
  },
  {
   "cell_type": "markdown",
   "source": [
    "'...and the columns'"
   ],
   "metadata": {
    "collapsed": false,
    "pycharm": {
     "name": "#%% md\n"
    }
   }
  },
  {
   "cell_type": "code",
   "execution_count": 41,
   "metadata": {
    "pycharm": {
     "name": "#%%\n"
    }
   },
   "outputs": [
    {
     "data": {
      "text/plain": "Index(['OBJECTID', 'CTYUA20CD', 'CTYUA20NM', 'CTYUA20NMW', 'BNG_E', 'BNG_N',\n       'LONG', 'LAT', 'Shape__Are', 'Shape__Len', 'geometry'],\n      dtype='object')"
     },
     "execution_count": 41,
     "metadata": {},
     "output_type": "execute_result"
    }
   ],
   "source": [
    "leeds_counties_unitary.columns"
   ]
  },
  {
   "cell_type": "markdown",
   "metadata": {
    "pycharm": {
     "name": "#%% md\n"
    }
   },
   "source": [
    "Same for the Local Authority District data"
   ]
  },
  {
   "cell_type": "code",
   "execution_count": 42,
   "outputs": [
    {
     "data": {
      "text/plain": "   OBJECTID    LAD20CD               LAD20NM LAD20NMW   BNG_E   BNG_N  \\\n0         1  E06000001            Hartlepool     None  447160  531474   \n1         2  E06000002         Middlesbrough     None  451141  516887   \n2         3  E06000003  Redcar and Cleveland     None  464361  519597   \n3         4  E06000004      Stockton-on-Tees     None  444940  518183   \n4         5  E06000005            Darlington     None  428029  515648   \n\n      LONG        LAT    Shape__Are     Shape__Len  \\\n0 -1.27018  54.676140  9.371263e+07   71007.443285   \n1 -1.21099  54.544670  5.388156e+07   44481.691242   \n2 -1.00608  54.567520  2.450695e+08   96703.989701   \n3 -1.30664  54.556911  2.049330e+08  123408.985928   \n4 -1.56835  54.535339  1.974757e+08  107206.401677   \n\n                                            geometry  \n0  MULTIPOLYGON (((447213.899 537036.104, 447228....  \n1  MULTIPOLYGON (((448609.900 521982.600, 448616....  \n2  MULTIPOLYGON (((455932.335 527880.697, 455919....  \n3  MULTIPOLYGON (((444157.002 527956.304, 444165....  \n4  POLYGON ((423496.602 524724.299, 423497.204 52...  ",
      "text/html": "<div>\n<style scoped>\n    .dataframe tbody tr th:only-of-type {\n        vertical-align: middle;\n    }\n\n    .dataframe tbody tr th {\n        vertical-align: top;\n    }\n\n    .dataframe thead th {\n        text-align: right;\n    }\n</style>\n<table border=\"1\" class=\"dataframe\">\n  <thead>\n    <tr style=\"text-align: right;\">\n      <th></th>\n      <th>OBJECTID</th>\n      <th>LAD20CD</th>\n      <th>LAD20NM</th>\n      <th>LAD20NMW</th>\n      <th>BNG_E</th>\n      <th>BNG_N</th>\n      <th>LONG</th>\n      <th>LAT</th>\n      <th>Shape__Are</th>\n      <th>Shape__Len</th>\n      <th>geometry</th>\n    </tr>\n  </thead>\n  <tbody>\n    <tr>\n      <th>0</th>\n      <td>1</td>\n      <td>E06000001</td>\n      <td>Hartlepool</td>\n      <td>None</td>\n      <td>447160</td>\n      <td>531474</td>\n      <td>-1.27018</td>\n      <td>54.676140</td>\n      <td>9.371263e+07</td>\n      <td>71007.443285</td>\n      <td>MULTIPOLYGON (((447213.899 537036.104, 447228....</td>\n    </tr>\n    <tr>\n      <th>1</th>\n      <td>2</td>\n      <td>E06000002</td>\n      <td>Middlesbrough</td>\n      <td>None</td>\n      <td>451141</td>\n      <td>516887</td>\n      <td>-1.21099</td>\n      <td>54.544670</td>\n      <td>5.388156e+07</td>\n      <td>44481.691242</td>\n      <td>MULTIPOLYGON (((448609.900 521982.600, 448616....</td>\n    </tr>\n    <tr>\n      <th>2</th>\n      <td>3</td>\n      <td>E06000003</td>\n      <td>Redcar and Cleveland</td>\n      <td>None</td>\n      <td>464361</td>\n      <td>519597</td>\n      <td>-1.00608</td>\n      <td>54.567520</td>\n      <td>2.450695e+08</td>\n      <td>96703.989701</td>\n      <td>MULTIPOLYGON (((455932.335 527880.697, 455919....</td>\n    </tr>\n    <tr>\n      <th>3</th>\n      <td>4</td>\n      <td>E06000004</td>\n      <td>Stockton-on-Tees</td>\n      <td>None</td>\n      <td>444940</td>\n      <td>518183</td>\n      <td>-1.30664</td>\n      <td>54.556911</td>\n      <td>2.049330e+08</td>\n      <td>123408.985928</td>\n      <td>MULTIPOLYGON (((444157.002 527956.304, 444165....</td>\n    </tr>\n    <tr>\n      <th>4</th>\n      <td>5</td>\n      <td>E06000005</td>\n      <td>Darlington</td>\n      <td>None</td>\n      <td>428029</td>\n      <td>515648</td>\n      <td>-1.56835</td>\n      <td>54.535339</td>\n      <td>1.974757e+08</td>\n      <td>107206.401677</td>\n      <td>POLYGON ((423496.602 524724.299, 423497.204 52...</td>\n    </tr>\n  </tbody>\n</table>\n</div>"
     },
     "execution_count": 42,
     "metadata": {},
     "output_type": "execute_result"
    }
   ],
   "source": [
    "LA_district.head()"
   ],
   "metadata": {
    "collapsed": false,
    "pycharm": {
     "name": "#%%\n"
    }
   }
  },
  {
   "cell_type": "code",
   "execution_count": 43,
   "metadata": {
    "pycharm": {
     "name": "#%%\n"
    }
   },
   "outputs": [
    {
     "data": {
      "text/plain": "Index(['OBJECTID', 'LAD20CD', 'LAD20NM', 'LAD20NMW', 'BNG_E', 'BNG_N', 'LONG',\n       'LAT', 'Shape__Are', 'Shape__Len', 'geometry'],\n      dtype='object')"
     },
     "execution_count": 43,
     "metadata": {},
     "output_type": "execute_result"
    }
   ],
   "source": [
    "LA_district.columns"
   ]
  },
  {
   "cell_type": "markdown",
   "metadata": {
    "pycharm": {
     "name": "#%% md\n"
    }
   },
   "source": [
    "Subset the LA_district dataset to include only Leeds."
   ]
  },
  {
   "cell_type": "code",
   "execution_count": 44,
   "outputs": [],
   "source": [
    "leeds_la = LA_district.loc[LA_district['LAD20NM']=='Leeds']"
   ],
   "metadata": {
    "collapsed": false,
    "pycharm": {
     "name": "#%%\n"
    }
   }
  },
  {
   "cell_type": "markdown",
   "metadata": {
    "pycharm": {
     "name": "#%% md\n"
    }
   },
   "source": [
    "Plot both polygons and eyeball against basemap whether there are any differences."
   ]
  },
  {
   "cell_type": "code",
   "execution_count": 47,
   "outputs": [
    {
     "data": {
      "text/plain": "<Figure size 864x432 with 2 Axes>",
      "image/png": "[encoded data removed]"
     },
     "metadata": {
      "needs_background": "light"
     },
     "output_type": "display_data"
    },
    {
     "name": "stdout",
     "output_type": "stream",
     "text": [
      "The area of Leeds County Unitary Authority is  551706537.384094  sq km whilst the area of Leeds LA is  551706537.384094 sq km\n"
     ]
    }
   ],
   "source": [
    "f,ax = plt.subplots(1,2, figsize=(12,6))\n",
    "\n",
    "leeds_counties_unitary.plot(ax=ax[0],categorical = True, column = 'CTYUA20NM')\n",
    "leeds_la.plot(ax=ax[1], categorical = True, column = 'LAD20NM')\n",
    "\n",
    "plt.show()\n",
    "print('The area of Leeds County Unitary Authority is ',leeds_counties_unitary.iloc[0]['Shape__Are'],' sq km', 'whilst the area of Leeds LA is ',leeds_la.iloc[0]['Shape__Are'],'sq km')"
   ],
   "metadata": {
    "collapsed": false,
    "pycharm": {
     "name": "#%%\n"
    }
   }
  },
  {
   "cell_type": "markdown",
   "source": [
    "Looks like they both cover the same area.\n",
    "\n",
    "Let's have another look without a fill and over a basemap."
   ],
   "metadata": {
    "collapsed": false
   }
  },
  {
   "cell_type": "code",
   "source": [
    "f,ax = plt.subplots(1,2, figsize=(12,6))\n",
    "\n",
    "leeds_counties_unitary.plot(ax=ax[0],categorical = True, column = 'CTYUA20NM')\n",
    "leeds_la.plot(ax=ax[1], categorical = True, column = 'LAD20NM')\n",
    "\n",
    "plt.show()"
   ],
   "metadata": {
    "collapsed": false,
    "pycharm": {
     "name": "#%%\n"
    }
   },
   "execution_count": 48,
   "outputs": [
    {
     "ename": "NameError",
     "evalue": "name 'none' is not defined",
     "output_type": "error",
     "traceback": [
      "\u001B[1;31m---------------------------------------------------------------------------\u001B[0m",
      "\u001B[1;31mNameError\u001B[0m                                 Traceback (most recent call last)",
      "\u001B[1;32m<ipython-input-48-b2d351cd5394>\u001B[0m in \u001B[0;36m<module>\u001B[1;34m\u001B[0m\n\u001B[0;32m      1\u001B[0m \u001B[0mf\u001B[0m\u001B[1;33m,\u001B[0m\u001B[0max\u001B[0m \u001B[1;33m=\u001B[0m \u001B[0mplt\u001B[0m\u001B[1;33m.\u001B[0m\u001B[0msubplots\u001B[0m\u001B[1;33m(\u001B[0m\u001B[1;36m1\u001B[0m\u001B[1;33m,\u001B[0m\u001B[1;36m2\u001B[0m\u001B[1;33m,\u001B[0m \u001B[0mfigsize\u001B[0m\u001B[1;33m=\u001B[0m\u001B[1;33m(\u001B[0m\u001B[1;36m12\u001B[0m\u001B[1;33m,\u001B[0m\u001B[1;36m6\u001B[0m\u001B[1;33m)\u001B[0m\u001B[1;33m)\u001B[0m\u001B[1;33m\u001B[0m\u001B[1;33m\u001B[0m\u001B[0m\n\u001B[0;32m      2\u001B[0m \u001B[1;33m\u001B[0m\u001B[0m\n\u001B[1;32m----> 3\u001B[1;33m \u001B[0mleeds_counties_unitary\u001B[0m\u001B[1;33m.\u001B[0m\u001B[0mplot\u001B[0m\u001B[1;33m(\u001B[0m\u001B[0max\u001B[0m\u001B[1;33m=\u001B[0m\u001B[0max\u001B[0m\u001B[1;33m[\u001B[0m\u001B[1;36m0\u001B[0m\u001B[1;33m]\u001B[0m\u001B[1;33m,\u001B[0m\u001B[0mcategorical\u001B[0m \u001B[1;33m=\u001B[0m \u001B[1;32mTrue\u001B[0m\u001B[1;33m,\u001B[0m \u001B[0mcolumn\u001B[0m \u001B[1;33m=\u001B[0m \u001B[1;34m'CTYUA20NM'\u001B[0m\u001B[1;33m,\u001B[0m \u001B[0mcolor\u001B[0m \u001B[1;33m=\u001B[0m \u001B[0mnone\u001B[0m\u001B[1;33m)\u001B[0m\u001B[1;33m\u001B[0m\u001B[1;33m\u001B[0m\u001B[0m\n\u001B[0m\u001B[0;32m      4\u001B[0m \u001B[0mleeds_la\u001B[0m\u001B[1;33m.\u001B[0m\u001B[0mplot\u001B[0m\u001B[1;33m(\u001B[0m\u001B[0max\u001B[0m\u001B[1;33m=\u001B[0m\u001B[0max\u001B[0m\u001B[1;33m[\u001B[0m\u001B[1;36m1\u001B[0m\u001B[1;33m]\u001B[0m\u001B[1;33m,\u001B[0m \u001B[0mcategorical\u001B[0m \u001B[1;33m=\u001B[0m \u001B[1;32mTrue\u001B[0m\u001B[1;33m,\u001B[0m \u001B[0mcolumn\u001B[0m \u001B[1;33m=\u001B[0m \u001B[1;34m'LAD20NM'\u001B[0m\u001B[1;33m)\u001B[0m\u001B[1;33m\u001B[0m\u001B[1;33m\u001B[0m\u001B[0m\n\u001B[0;32m      5\u001B[0m \u001B[1;33m\u001B[0m\u001B[0m\n",
      "\u001B[1;31mNameError\u001B[0m: name 'none' is not defined"
     ]
    },
    {
     "data": {
      "text/plain": "<Figure size 864x432 with 2 Axes>",
      "image/png": "[encoded data removed]"
     },
     "metadata": {
      "needs_background": "light"
     },
     "output_type": "display_data"
    }
   ]
  }
 ],
 "metadata": {
  "kernelspec": {
   "display_name": "Python 3",
   "language": "python",
   "name": "python3"
  },
  "language_info": {
   "codemirror_mode": {
    "name": "ipython",
    "version": 3
   },
   "file_extension": ".py",
   "mimetype": "text/x-python",
   "name": "python",
   "nbconvert_exporter": "python",
   "pygments_lexer": "ipython3",
   "version": "3.8.8"
  }
 },
 "nbformat": 4,
 "nbformat_minor": 1
}