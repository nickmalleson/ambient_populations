{
 "cells": [
  {
   "cell_type": "code",
   "execution_count": 61,
   "metadata": {
    "collapsed": true
   },
   "outputs": [
    {
     "name": "stdout",
     "output_type": "stream",
     "text": [
      "File Weekly%20Data%2019.04.21%20-%2025.04.21.csv exists already, not downloading\n",
      "File Weekly%20Data%2019.04.21%20-%2025.04.21.csv exists already, not downloading\n",
      "File Weekly%20Data%2019.04.21%20-%2025.04.21.csv exists already, not downloading\n",
      "File Weekly%20Data%2019.04.21%20-%2025.04.21.csv exists already, not downloading\n",
      "File Weekly%20Data%2012.04.21%20-%2018.04.21.csv exists already, not downloading\n",
      "File Weekly%20Data%2012.04.21%20-%2018.04.21.csv exists already, not downloading\n",
      "File Weekly%20Data%2012.04.21%20-%2018.04.21.csv exists already, not downloading\n",
      "File Weekly%20Data%2012.04.21%20-%2018.04.21.csv exists already, not downloading\n",
      "File Weekly%20Data%2005.04.21%20-%2011.04.21.csv exists already, not downloading\n",
      "File Weekly%20Data%2005.04.21%20-%2011.04.21.csv exists already, not downloading\n",
      "File Weekly%20Data%2005.04.21%20-%2011.04.21.csv exists already, not downloading\n",
      "File Weekly%20Data%2005.04.21%20-%2011.04.21.csv exists already, not downloading\n",
      "File Weekly%20Data%2029.03.21%20-%2004.04.21.csv exists already, not downloading\n",
      "File Weekly%20Data%2029.03.21%20-%2004.04.21.csv exists already, not downloading\n",
      "File Weekly%20Data%2029.03.21%20-%2004.04.21.csv exists already, not downloading\n",
      "File Weekly%20Data%2029.03.21%20-%2004.04.21.csv exists already, not downloading\n",
      "File Weekly%20Data%2022.03.21%20-%2028.03.21.csv exists already, not downloading\n",
      "File Weekly%20Data%2022.03.21%20-%2028.03.21.csv exists already, not downloading\n",
      "File Weekly%20Data%2022.03.21%20-%2028.03.21.csv exists already, not downloading\n",
      "File Weekly%20Data%2022.03.21%20-%2028.03.21.csv exists already, not downloading\n",
      "File Weekly%20Data%2015.03.21%20-%2021.03.21.csv exists already, not downloading\n",
      "File Weekly%20Data%2015.03.21%20-%2021.03.21.csv exists already, not downloading\n",
      "File Weekly%20Data%2015.03.21%20-%2021.03.21.csv exists already, not downloading\n",
      "File Weekly%20Data%2015.03.21%20-%2021.03.21.csv exists already, not downloading\n",
      "File Weekly%20Data%2008.03.21%20-%2014.03.21.csv exists already, not downloading\n",
      "File Weekly%20Data%2008.03.21%20-%2014.03.21.csv exists already, not downloading\n",
      "File Weekly%20Data%2008.03.21%20-%2014.03.21.csv exists already, not downloading\n",
      "File Weekly%20Data%2008.03.21%20-%2014.03.21.csv exists already, not downloading\n",
      "File Weekly%20Data%2001.03.21%20-%2007.03.21.csv exists already, not downloading\n",
      "File Weekly%20Data%2001.03.21%20-%2007.03.21.csv exists already, not downloading\n",
      "File Weekly%20Data%2001.03.21%20-%2007.03.21.csv exists already, not downloading\n",
      "File Weekly%20Data%2001.03.21%20-%2007.03.21.csv exists already, not downloading\n",
      "File Weekly%20Data%2022.02.21%20-%2028.02.21.csv exists already, not downloading\n",
      "File Weekly%20Data%2022.02.21%20-%2028.02.21.csv exists already, not downloading\n",
      "File Weekly%20Data%2022.02.21%20-%2028.02.21.csv exists already, not downloading\n",
      "File Weekly%20Data%2022.02.21%20-%2028.02.21.csv exists already, not downloading\n",
      "File Weekly%20Data%2015.02.21%20-%2021.02.21.csv exists already, not downloading\n",
      "File Weekly%20Data%2015.02.21%20-%2021.02.21.csv exists already, not downloading\n",
      "File Weekly%20Data%2015.02.21%20-%2021.02.21.csv exists already, not downloading\n",
      "File Weekly%20Data%2015.02.21%20-%2021.02.21.csv exists already, not downloading\n",
      "File weekly%20Data%2008.02.21%20-%2014.02.21.csv exists already, not downloading\n",
      "File weekly%20Data%2008.02.21%20-%2014.02.21.csv exists already, not downloading\n",
      "File weekly%20Data%2008.02.21%20-%2014.02.21.csv exists already, not downloading\n",
      "File weekly%20Data%2008.02.21%20-%2014.02.21.csv exists already, not downloading\n",
      "File weekly%20Data%2001.02.21%20-%2007.01.21.csv exists already, not downloading\n",
      "File weekly%20Data%2001.02.21%20-%2007.01.21.csv exists already, not downloading\n",
      "File weekly%20Data%2001.02.21%20-%2007.01.21.csv exists already, not downloading\n",
      "File weekly%20Data%2001.02.21%20-%2007.01.21.csv exists already, not downloading\n",
      "File Weekly%20Data%2025.01.21%20-%2031.01.21.csv exists already, not downloading\n",
      "File Weekly%20Data%2025.01.21%20-%2031.01.21.csv exists already, not downloading\n",
      "File Weekly%20Data%2025.01.21%20-%2031.01.21.csv exists already, not downloading\n",
      "File Weekly%20Data%2025.01.21%20-%2031.01.21.csv exists already, not downloading\n",
      "File Weekly%20Data%2018.01.21%20-%2024.01.21.csv exists already, not downloading\n",
      "File Weekly%20Data%2018.01.21%20-%2024.01.21.csv exists already, not downloading\n",
      "File Weekly%20Data%2018.01.21%20-%2024.01.21.csv exists already, not downloading\n",
      "File Weekly%20Data%2018.01.21%20-%2024.01.21.csv exists already, not downloading\n",
      "File Weekly%20Data%2011.01.21%20-%2017.01.21.csv exists already, not downloading\n",
      "File Weekly%20Data%2011.01.21%20-%2017.01.21.csv exists already, not downloading\n",
      "File Weekly%20Data%2011.01.21%20-%2017.01.21.csv exists already, not downloading\n",
      "File Weekly%20Data%2011.01.21%20-%2017.01.21.csv exists already, not downloading\n",
      "File Weekly%20Data%2004.01.21%20-%2010.01.21.csv exists already, not downloading\n",
      "File Weekly%20Data%2004.01.21%20-%2010.01.21.csv exists already, not downloading\n",
      "File Weekly%20Data%2004.01.21%20-%2010.01.21.csv exists already, not downloading\n",
      "File Weekly%20Data%2004.01.21%20-%2010.01.21.csv exists already, not downloading\n",
      "File Weekly%20Data%2028.12.20%20-%2003.01.21.csv exists already, not downloading\n",
      "File Weekly%20Data%2028.12.20%20-%2003.01.21.csv exists already, not downloading\n",
      "File Weekly%20Data%2028.12.20%20-%2003.01.21.csv exists already, not downloading\n",
      "File Weekly%20Data%2028.12.20%20-%2003.01.21.csv exists already, not downloading\n",
      "File Weekly%20Data%2021.12.20%20-%2027.12.20.csv exists already, not downloading\n",
      "File Weekly%20Data%2021.12.20%20-%2027.12.20.csv exists already, not downloading\n",
      "File Weekly%20Data%2021.12.20%20-%2027.12.20.csv exists already, not downloading\n",
      "File Weekly%20Data%2021.12.20%20-%2027.12.20.csv exists already, not downloading\n",
      "File Weekly%20Data%2014.12.20%20-%2020.12.20.csv exists already, not downloading\n",
      "File Weekly%20Data%2014.12.20%20-%2020.12.20.csv exists already, not downloading\n",
      "File Weekly%20Data%2014.12.20%20-%2020.12.20.csv exists already, not downloading\n",
      "File Weekly%20Data%2014.12.20%20-%2020.12.20.csv exists already, not downloading\n",
      "File Weekly%20Data%2007.12.20%20-%2013.12.20.csv exists already, not downloading\n",
      "File Weekly%20Data%2007.12.20%20-%2013.12.20.csv exists already, not downloading\n",
      "File Weekly%20Data%2007.12.20%20-%2013.12.20.csv exists already, not downloading\n",
      "File Weekly%20Data%2007.12.20%20-%2013.12.20.csv exists already, not downloading\n",
      "File 30.11.2020%20-%2006.12.2020.csv exists already, not downloading\n",
      "File 30.11.2020%20-%2006.12.2020.csv exists already, not downloading\n",
      "File 30.11.2020%20-%2006.12.2020.csv exists already, not downloading\n",
      "File 30.11.2020%20-%2006.12.2020.csv exists already, not downloading\n",
      "File 23.11.2020%20-%2029.11.2020.csv exists already, not downloading\n",
      "File 23.11.2020%20-%2029.11.2020.csv exists already, not downloading\n",
      "File 23.11.2020%20-%2029.11.2020.csv exists already, not downloading\n",
      "File 23.11.2020%20-%2029.11.2020.csv exists already, not downloading\n",
      "File 16.11.2020%20-%2022.11.2020.csv exists already, not downloading\n",
      "File 16.11.2020%20-%2022.11.2020.csv exists already, not downloading\n",
      "File 16.11.2020%20-%2022.11.2020.csv exists already, not downloading\n",
      "File 16.11.2020%20-%2022.11.2020.csv exists already, not downloading\n",
      "File 09.11.2020%20-%2015.11.2020.csv exists already, not downloading\n",
      "File 09.11.2020%20-%2015.11.2020.csv exists already, not downloading\n",
      "File 09.11.2020%20-%2015.11.2020.csv exists already, not downloading\n",
      "File 09.11.2020%20-%2015.11.2020.csv exists already, not downloading\n",
      "File Weekly%20Data%2002.11.20%20-%2008.11.20.csv exists already, not downloading\n",
      "File Weekly%20Data%2002.11.20%20-%2008.11.20.csv exists already, not downloading\n",
      "File Weekly%20Data%2002.11.20%20-%2008.11.20.csv exists already, not downloading\n",
      "File Weekly%20Data%2002.11.20%20-%2008.11.20.csv exists already, not downloading\n",
      "File Weekly%20Data%2026.10.20%20-%2001.11.20.csv exists already, not downloading\n",
      "File Weekly%20Data%2026.10.20%20-%2001.11.20.csv exists already, not downloading\n",
      "File Weekly%20Data%2026.10.20%20-%2001.11.20.csv exists already, not downloading\n",
      "File Weekly%20Data%2026.10.20%20-%2001.11.20.csv exists already, not downloading\n",
      "File Weekly%20Data%2019.10.20%20-%2025.10.20.csv exists already, not downloading\n",
      "File Weekly%20Data%2019.10.20%20-%2025.10.20.csv exists already, not downloading\n",
      "File Weekly%20Data%2019.10.20%20-%2025.10.20.csv exists already, not downloading\n",
      "File Weekly%20Data%2019.10.20%20-%2025.10.20.csv exists already, not downloading\n",
      "File 12.10.20%20-%2018.10.20.csv exists already, not downloading\n",
      "File 12.10.20%20-%2018.10.20.csv exists already, not downloading\n",
      "File 12.10.20%20-%2018.10.20.csv exists already, not downloading\n",
      "File 12.10.20%20-%2018.10.20.csv exists already, not downloading\n",
      "File 05.10.20%20to%2011.10.20.csv exists already, not downloading\n",
      "File 05.10.20%20to%2011.10.20.csv exists already, not downloading\n",
      "File 05.10.20%20to%2011.10.20.csv exists already, not downloading\n",
      "File 05.10.20%20to%2011.10.20.csv exists already, not downloading\n",
      "File 28.09.20%20-%2004.10.20.csv exists already, not downloading\n",
      "File 28.09.20%20-%2004.10.20.csv exists already, not downloading\n",
      "File 28.09.20%20-%2004.10.20.csv exists already, not downloading\n",
      "File 28.09.20%20-%2004.10.20.csv exists already, not downloading\n",
      "File 21.09.20%20-%2027.09.20.csv exists already, not downloading\n",
      "File 21.09.20%20-%2027.09.20.csv exists already, not downloading\n",
      "File 21.09.20%20-%2027.09.20.csv exists already, not downloading\n",
      "File 21.09.20%20-%2027.09.20.csv exists already, not downloading\n",
      "File 14.09.20%20-%2020.09.20.csv exists already, not downloading\n",
      "File 14.09.20%20-%2020.09.20.csv exists already, not downloading\n",
      "File 14.09.20%20-%2020.09.20.csv exists already, not downloading\n",
      "File 14.09.20%20-%2020.09.20.csv exists already, not downloading\n",
      "File 07.09.20%20-%2013.09.20.csv exists already, not downloading\n",
      "File 07.09.20%20-%2013.09.20.csv exists already, not downloading\n",
      "File 07.09.20%20-%2013.09.20.csv exists already, not downloading\n",
      "File 07.09.20%20-%2013.09.20.csv exists already, not downloading\n",
      "File 31.08.20%20-%2006.09.20.csv exists already, not downloading\n",
      "File 31.08.20%20-%2006.09.20.csv exists already, not downloading\n",
      "File 31.08.20%20-%2006.09.20.csv exists already, not downloading\n",
      "File 31.08.20%20-%2006.09.20.csv exists already, not downloading\n",
      "File 24.08.20%20-%2030.08.20.csv exists already, not downloading\n",
      "File 24.08.20%20-%2030.08.20.csv exists already, not downloading\n",
      "File 24.08.20%20-%2030.08.20.csv exists already, not downloading\n",
      "File 24.08.20%20-%2030.08.20.csv exists already, not downloading\n",
      "File 17.08.20%20-%2023.08.20.csv exists already, not downloading\n",
      "File 17.08.20%20-%2023.08.20.csv exists already, not downloading\n",
      "File 17.08.20%20-%2023.08.20.csv exists already, not downloading\n",
      "File 17.08.20%20-%2023.08.20.csv exists already, not downloading\n",
      "File 10.08.20%20-%2016.08.20.csv exists already, not downloading\n",
      "File 10.08.20%20-%2016.08.20.csv exists already, not downloading\n",
      "File 10.08.20%20-%2016.08.20.csv exists already, not downloading\n",
      "File 10.08.20%20-%2016.08.20.csv exists already, not downloading\n",
      "File 03.08.20%20-09.08.20.csv exists already, not downloading\n",
      "File 03.08.20%20-09.08.20.csv exists already, not downloading\n",
      "File 03.08.20%20-09.08.20.csv exists already, not downloading\n",
      "File 03.08.20%20-09.08.20.csv exists already, not downloading\n",
      "File 27.07.20%20-%2002.08.20.csv exists already, not downloading\n",
      "File 27.07.20%20-%2002.08.20.csv exists already, not downloading\n",
      "File 27.07.20%20-%2002.08.20.csv exists already, not downloading\n",
      "File 27.07.20%20-%2002.08.20.csv exists already, not downloading\n",
      "File 20.07.20%20-%2026.07.20.csv exists already, not downloading\n",
      "File 20.07.20%20-%2026.07.20.csv exists already, not downloading\n",
      "File 20.07.20%20-%2026.07.20.csv exists already, not downloading\n",
      "File 20.07.20%20-%2026.07.20.csv exists already, not downloading\n",
      "File 13.07.20%20-%2019.07.20.csv exists already, not downloading\n",
      "File 13.07.20%20-%2019.07.20.csv exists already, not downloading\n",
      "File 13.07.20%20-%2019.07.20.csv exists already, not downloading\n",
      "File 13.07.20%20-%2019.07.20.csv exists already, not downloading\n",
      "File 06.07.20%20-%2012.07.20.csv exists already, not downloading\n",
      "File 06.07.20%20-%2012.07.20.csv exists already, not downloading\n",
      "File 06.07.20%20-%2012.07.20.csv exists already, not downloading\n",
      "File 06.07.20%20-%2012.07.20.csv exists already, not downloading\n",
      "File 29.06.2020%20-%2005.07.2020.csv exists already, not downloading\n",
      "File 29.06.2020%20-%2005.07.2020.csv exists already, not downloading\n",
      "File 29.06.2020%20-%2005.07.2020.csv exists already, not downloading\n",
      "File 29.06.2020%20-%2005.07.2020.csv exists already, not downloading\n",
      "File 22.06.20%20-%2028.06.20.csv exists already, not downloading\n",
      "File 22.06.20%20-%2028.06.20.csv exists already, not downloading\n",
      "File 22.06.20%20-%2028.06.20.csv exists already, not downloading\n",
      "File 22.06.20%20-%2028.06.20.csv exists already, not downloading\n",
      "File 15.06.20%20-%2021.06.20.csv exists already, not downloading\n",
      "File 15.06.20%20-%2021.06.20.csv exists already, not downloading\n",
      "File 15.06.20%20-%2021.06.20.csv exists already, not downloading\n",
      "File 15.06.20%20-%2021.06.20.csv exists already, not downloading\n",
      "File 08.06.20%20-%2014.06.20.csv exists already, not downloading\n",
      "File 08.06.20%20-%2014.06.20.csv exists already, not downloading\n",
      "File 08.06.20%20-%2014.06.20.csv exists already, not downloading\n",
      "File 08.06.20%20-%2014.06.20.csv exists already, not downloading\n",
      "File 1.06.20%20-%2007.06.20.csv exists already, not downloading\n",
      "File 1.06.20%20-%2007.06.20.csv exists already, not downloading\n",
      "File 1.06.20%20-%2007.06.20.csv exists already, not downloading\n",
      "File 1.06.20%20-%2007.06.20.csv exists already, not downloading\n",
      "File Copy%20of%20Monthly%20Data%20Feed%20-%20May%202020.csv exists already, not downloading\n",
      "File Copy%20of%20Monthly%20Data%20Feed%20-%20May%202020.csv exists already, not downloading\n",
      "File Copy%20of%20Monthly%20Data%20Feed%20-%20May%202020.csv exists already, not downloading\n",
      "File Copy%20of%20Monthly%20Data%20Feed%20-%20May%202020.csv exists already, not downloading\n",
      "File Monthly%20Data%20feed%20April%202020.csv exists already, not downloading\n",
      "File Monthly%20Data%20feed%20April%202020.csv exists already, not downloading\n",
      "File Monthly%20Data%20feed%20April%202020.csv exists already, not downloading\n",
      "File Monthly%20Data%20feed%20April%202020.csv exists already, not downloading\n",
      "File Mar%202020.csv exists already, not downloading\n",
      "File Mar%202020.csv exists already, not downloading\n",
      "File Mar%202020.csv exists already, not downloading\n",
      "File Mar%202020.csv exists already, not downloading\n",
      "File Feb%202020.csv exists already, not downloading\n",
      "File Feb%202020.csv exists already, not downloading\n",
      "File Feb%202020.csv exists already, not downloading\n",
      "File Feb%202020.csv exists already, not downloading\n",
      "File Jan%202020.csv exists already, not downloading\n",
      "File Jan%202020.csv exists already, not downloading\n",
      "File Jan%202020.csv exists already, not downloading\n",
      "File Jan%202020.csv exists already, not downloading\n",
      "File Monthly%20Data%20Feed%20-%20Dec%202019.csv exists already, not downloading\n",
      "File Monthly%20Data%20Feed%20-%20Dec%202019.csv exists already, not downloading\n",
      "File Monthly%20Data%20Feed%20-%20Dec%202019.csv exists already, not downloading\n",
      "File Monthly%20Data%20Feed%20-%20Dec%202019.csv exists already, not downloading\n",
      "File Monthly%20Data%20Feed%20-%20Nov%202019.csv exists already, not downloading\n",
      "File Monthly%20Data%20Feed%20-%20Nov%202019.csv exists already, not downloading\n",
      "File Monthly%20Data%20Feed%20-%20Nov%202019.csv exists already, not downloading\n",
      "File Monthly%20Data%20Feed%20-%20Nov%202019.csv exists already, not downloading\n",
      "File Monthly%20Data%20Feed%20October%202019.csv exists already, not downloading\n",
      "File Monthly%20Data%20Feed%20October%202019.csv exists already, not downloading\n",
      "File Monthly%20Data%20Feed%20October%202019.csv exists already, not downloading\n",
      "File Monthly%20Data%20Feed%20October%202019.csv exists already, not downloading\n",
      "File Monthly%20Data%20feed%20September%202019.csv exists already, not downloading\n",
      "File Monthly%20Data%20feed%20September%202019.csv exists already, not downloading\n",
      "File Monthly%20Data%20feed%20September%202019.csv exists already, not downloading\n",
      "File Monthly%20Data%20feed%20September%202019.csv exists already, not downloading\n",
      "File Monthly%20Data%20Feed-August%202019.csv exists already, not downloading\n",
      "File Monthly%20Data%20Feed-August%202019.csv exists already, not downloading\n",
      "File Monthly%20Data%20Feed-August%202019.csv exists already, not downloading\n",
      "File Monthly%20Data%20Feed-August%202019.csv exists already, not downloading\n",
      "File Copy%20of%20Monthly%20Data%20Feed-July%202019.csv exists already, not downloading\n",
      "File Copy%20of%20Monthly%20Data%20Feed-July%202019.csv exists already, not downloading\n",
      "File Copy%20of%20Monthly%20Data%20Feed-July%202019.csv exists already, not downloading\n",
      "File Copy%20of%20Monthly%20Data%20Feed-July%202019.csv exists already, not downloading\n",
      "File Copy%20of%20Monthly%20Data%20Feed-June%202019.csv exists already, not downloading\n",
      "File Copy%20of%20Monthly%20Data%20Feed-June%202019.csv exists already, not downloading\n",
      "File Copy%20of%20Monthly%20Data%20Feed-June%202019.csv exists already, not downloading\n",
      "File Copy%20of%20Monthly%20Data%20Feed-June%202019.csv exists already, not downloading\n",
      "File Copy%20of%20Monthly%20Data%20Feed-May%202019.csv exists already, not downloading\n",
      "File Copy%20of%20Monthly%20Data%20Feed-May%202019.csv exists already, not downloading\n",
      "File Copy%20of%20Monthly%20Data%20Feed-May%202019.csv exists already, not downloading\n",
      "File Copy%20of%20Monthly%20Data%20Feed-May%202019.csv exists already, not downloading\n",
      "File Copy%20of%20Monthly%20Data%20Feed-April%202019.csv exists already, not downloading\n",
      "File Copy%20of%20Monthly%20Data%20Feed-April%202019.csv exists already, not downloading\n",
      "File Copy%20of%20Monthly%20Data%20Feed-April%202019.csv exists already, not downloading\n",
      "File Copy%20of%20Monthly%20Data%20Feed-April%202019.csv exists already, not downloading\n",
      "File Monthly%20Data%20Feed%20-%20Mar%202019.csv exists already, not downloading\n",
      "File Monthly%20Data%20Feed%20-%20Mar%202019.csv exists already, not downloading\n",
      "File Monthly%20Data%20Feed%20-%20Mar%202019.csv exists already, not downloading\n",
      "File Monthly%20Data%20Feed%20-%20Mar%202019.csv exists already, not downloading\n",
      "File Monthly%20Data%20Feed%20-%20Feb%202019.csv exists already, not downloading\n",
      "File Monthly%20Data%20Feed%20-%20Feb%202019.csv exists already, not downloading\n",
      "File Monthly%20Data%20Feed%20-%20Feb%202019.csv exists already, not downloading\n",
      "File Monthly%20Data%20Feed%20-%20Feb%202019.csv exists already, not downloading\n",
      "File Monthly%20Data%20Feed%20-%20Jan%202019.csv exists already, not downloading\n",
      "File Monthly%20Data%20Feed%20-%20Jan%202019.csv exists already, not downloading\n",
      "File Monthly%20Data%20Feed%20-%20Jan%202019.csv exists already, not downloading\n",
      "File Monthly%20Data%20Feed%20-%20Jan%202019.csv exists already, not downloading\n",
      "File Monthly%20Data%20Feed%20-%20Dec%202018.csv exists already, not downloading\n",
      "File Monthly%20Data%20Feed%20-%20Dec%202018.csv exists already, not downloading\n",
      "File Monthly%20Data%20Feed%20-%20Dec%202018.csv exists already, not downloading\n",
      "File Monthly%20Data%20Feed%20-%20Dec%202018.csv exists already, not downloading\n",
      "File Monthly%20Data%20feed%20-%20Nov%202018.csv exists already, not downloading\n",
      "File Monthly%20Data%20feed%20-%20Nov%202018.csv exists already, not downloading\n",
      "File Monthly%20Data%20feed%20-%20Nov%202018.csv exists already, not downloading\n",
      "File Monthly%20Data%20feed%20-%20Nov%202018.csv exists already, not downloading\n",
      "File Monthly%20Data%20Feed%20-%20Sept%202018.csv exists already, not downloading\n",
      "File Monthly%20Data%20Feed%20-%20Sept%202018.csv exists already, not downloading\n",
      "File Monthly%20Data%20Feed%20-%20Sept%202018.csv exists already, not downloading\n",
      "File Monthly%20Data%20Feed%20-%20Sept%202018.csv exists already, not downloading\n",
      "File Monthly%20Data%20Feed%20-%20Sept%202018.csv exists already, not downloading\n",
      "File Monthly%20Data%20Feed%20-%20Sept%202018.csv exists already, not downloading\n",
      "File Monthly%20Data%20Feed%20-%20Sept%202018.csv exists already, not downloading\n",
      "File Monthly%20Data%20Feed%20-%20Sept%202018.csv exists already, not downloading\n",
      "File Monthly%20Data%20Feed%20-%20August%202018.csv exists already, not downloading\n",
      "File Monthly%20Data%20Feed%20-%20August%202018.csv exists already, not downloading\n",
      "File Monthly%20Data%20Feed%20-%20August%202018.csv exists already, not downloading\n",
      "File Monthly%20Data%20Feed%20-%20August%202018.csv exists already, not downloading\n",
      "File Monthly%20Data%20Feed%20-%20July%202018.csv exists already, not downloading\n",
      "File Monthly%20Data%20Feed%20-%20July%202018.csv exists already, not downloading\n",
      "File Monthly%20Data%20Feed%20-%20July%202018.csv exists already, not downloading\n",
      "File Monthly%20Data%20Feed%20-%20July%202018.csv exists already, not downloading\n",
      "File Monthly%20Data%20Feed%20-%20June%202018.csv exists already, not downloading\n",
      "File Monthly%20Data%20Feed%20-%20June%202018.csv exists already, not downloading\n",
      "File Monthly%20Data%20Feed%20-%20June%202018.csv exists already, not downloading\n",
      "File Monthly%20Data%20Feed%20-%20June%202018.csv exists already, not downloading\n",
      "File Monthly%20Data%20Feed%20-%20May%202018.csv exists already, not downloading\n",
      "File Monthly%20Data%20Feed%20-%20May%202018.csv exists already, not downloading\n",
      "File Monthly%20Data%20Feed%20-%20May%202018.csv exists already, not downloading\n",
      "File Monthly%20Data%20Feed%20-%20May%202018.csv exists already, not downloading\n",
      "File Monthly%20Data%20Feed%20-%20April%202018.csv exists already, not downloading\n",
      "File Monthly%20Data%20Feed%20-%20April%202018.csv exists already, not downloading\n",
      "File Monthly%20Data%20Feed%20-%20April%202018.csv exists already, not downloading\n",
      "File Monthly%20Data%20Feed%20-%20April%202018.csv exists already, not downloading\n",
      "File Monthly%20Data%20Feed-March%202018.csv exists already, not downloading\n",
      "File Monthly%20Data%20Feed-March%202018.csv exists already, not downloading\n",
      "File Monthly%20Data%20Feed-March%202018.csv exists already, not downloading\n",
      "File Monthly%20Data%20Feed-March%202018.csv exists already, not downloading\n",
      "File Monthly%20Data%20Feed-Feb%202018.csv exists already, not downloading\n",
      "File Monthly%20Data%20Feed-Feb%202018.csv exists already, not downloading\n",
      "File Monthly%20Data%20Feed-Feb%202018.csv exists already, not downloading\n",
      "File Monthly%20Data%20Feed-Feb%202018.csv exists already, not downloading\n",
      "File Monthly%20Data%20Feed%20-%20%20Jan%202018.csv exists already, not downloading\n",
      "File Monthly%20Data%20Feed%20-%20%20Jan%202018.csv exists already, not downloading\n",
      "File Monthly%20Data%20Feed%20-%20%20Jan%202018.csv exists already, not downloading\n",
      "File Monthly%20Data%20Feed%20-%20%20Jan%202018.csv exists already, not downloading\n",
      "File Monthly%20Data%20Feed%20-%20Dec%202017.csv exists already, not downloading\n",
      "File Monthly%20Data%20Feed%20-%20Dec%202017.csv exists already, not downloading\n",
      "File Monthly%20Data%20Feed%20-%20Dec%202017.csv exists already, not downloading\n",
      "File Monthly%20Data%20Feed%20-%20Dec%202017.csv exists already, not downloading\n",
      "File Monthly%20Data%20Feed%20-%20Nov%202017.csv exists already, not downloading\n",
      "File Monthly%20Data%20Feed%20-%20Nov%202017.csv exists already, not downloading\n",
      "File Monthly%20Data%20Feed%20-%20Nov%202017.csv exists already, not downloading\n",
      "File Monthly%20Data%20Feed%20-%20Nov%202017.csv exists already, not downloading\n",
      "File Monthly%20Data%20Feed%20-%20%20August%202017.csv exists already, not downloading\n",
      "File Monthly%20Data%20Feed%20-%20%20August%202017.csv exists already, not downloading\n",
      "File Monthly%20Data%20Feed%20-%20%20August%202017.csv exists already, not downloading\n",
      "File Monthly%20Data%20Feed%20-%20%20August%202017.csv exists already, not downloading\n",
      "File Monthly%20Data%20Feed%20-%20July%202017.csv exists already, not downloading\n",
      "File Monthly%20Data%20Feed%20-%20July%202017.csv exists already, not downloading\n",
      "File Monthly%20Data%20Feed%20-%20July%202017.csv exists already, not downloading\n",
      "File Monthly%20Data%20Feed%20-%20July%202017.csv exists already, not downloading\n",
      "File Monthy%20Data%20Feed%20-%20June%202017.csv exists already, not downloading\n",
      "File Monthy%20Data%20Feed%20-%20June%202017.csv exists already, not downloading\n",
      "File Monthy%20Data%20Feed%20-%20June%202017.csv exists already, not downloading\n",
      "File Monthy%20Data%20Feed%20-%20June%202017.csv exists already, not downloading\n",
      "File Monthly%20Data%20Feed%20-%20May%202017.csv exists already, not downloading\n",
      "File Monthly%20Data%20Feed%20-%20May%202017.csv exists already, not downloading\n",
      "File Monthly%20Data%20Feed%20-%20May%202017.csv exists already, not downloading\n",
      "File Monthly%20Data%20Feed%20-%20May%202017.csv exists already, not downloading\n",
      "File Monthly%20Data%20Feed-April%202017%20-%2020170510.csv exists already, not downloading\n",
      "File Monthly%20Data%20Feed-April%202017%20-%2020170510.csv exists already, not downloading\n",
      "File Monthly%20Data%20Feed-April%202017%20-%2020170510.csv exists already, not downloading\n",
      "File Monthly%20Data%20Feed-April%202017%20-%2020170510.csv exists already, not downloading\n",
      "File Monthly%20Data%20Feed-October%202016%20-%2020161102.csv exists already, not downloading\n",
      "File Monthly%20Data%20Feed-October%202016%20-%2020161102.csv exists already, not downloading\n",
      "File Monthly%20Data%20Feed-October%202016%20-%2020161102.csv exists already, not downloading\n",
      "File Monthly%20Data%20Feed-October%202016%20-%2020161102.csv exists already, not downloading\n",
      "File Monthly%20Data%20Feed-September%202016%20-%2020161102.csv exists already, not downloading\n",
      "File Monthly%20Data%20Feed-September%202016%20-%2020161102.csv exists already, not downloading\n",
      "File Monthly%20Data%20Feed-September%202016%20-%2020161102.csv exists already, not downloading\n",
      "File Monthly%20Data%20Feed-September%202016%20-%2020161102.csv exists already, not downloading\n",
      "File Monthly%20Data%20Feed-Apr%202016%20-%2020160501.csv exists already, not downloading\n",
      "File Monthly%20Data%20Feed-Apr%202016%20-%2020160501.csv exists already, not downloading\n",
      "File Monthly%20Data%20Feed-Apr%202016%20-%2020160501.csv exists already, not downloading\n",
      "File Monthly%20Data%20Feed-Apr%202016%20-%2020160501.csv exists already, not downloading\n",
      "File Monthly%20Data%20Feed-Jan%202016%20-%2020160222.csv exists already, not downloading\n",
      "File Monthly%20Data%20Feed-Jan%202016%20-%2020160222.csv exists already, not downloading\n",
      "File Monthly%20Data%20Feed-Jan%202016%20-%2020160222.csv exists already, not downloading\n",
      "File Monthly%20Data%20Feed-Jan%202016%20-%2020160222.csv exists already, not downloading\n",
      "File Monthly%20Data%20Feed-November%202015%20-%2020151203.csv exists already, not downloading\n",
      "File Monthly%20Data%20Feed-November%202015%20-%2020151203.csv exists already, not downloading\n",
      "File Monthly%20Data%20Feed-November%202015%20-%2020151203.csv exists already, not downloading\n",
      "File Monthly%20Data%20Feed-November%202015%20-%2020151203.csv exists already, not downloading\n",
      "File Monthly%20Data%20Feed-October%202015%20-%2020151203.csv exists already, not downloading\n",
      "File Monthly%20Data%20Feed-October%202015%20-%2020151203.csv exists already, not downloading\n",
      "File Monthly%20Data%20Feed-October%202015%20-%2020151203.csv exists already, not downloading\n",
      "File Monthly%20Data%20Feed-October%202015%20-%2020151203.csv exists already, not downloading\n",
      "File Monthly%20Data%20Feed-September%202015%20-%2020151012.csv exists already, not downloading\n",
      "File Monthly%20Data%20Feed-September%202015%20-%2020151012.csv exists already, not downloading\n",
      "File Monthly%20Data%20Feed-September%202015%20-%2020151012.csv exists already, not downloading\n",
      "File Monthly%20Data%20Feed-September%202015%20-%2020151012.csv exists already, not downloading\n",
      "File Monthly%20Data%20Feed-August%202015%20-%2020150917.csv exists already, not downloading\n",
      "File Monthly%20Data%20Feed-August%202015%20-%2020150917.csv exists already, not downloading\n",
      "File Monthly%20Data%20Feed-August%202015%20-%2020150917.csv exists already, not downloading\n",
      "File Monthly%20Data%20Feed-August%202015%20-%2020150917.csv exists already, not downloading\n",
      "File Monthly%20Data%20Feed-July%202015%20-%2020150807.csv exists already, not downloading\n",
      "File Monthly%20Data%20Feed-July%202015%20-%2020150807.csv exists already, not downloading\n",
      "File Monthly%20Data%20Feed-July%202015%20-%2020150807.csv exists already, not downloading\n",
      "File Monthly%20Data%20Feed-July%202015%20-%2020150807.csv exists already, not downloading\n",
      "File Monthly%20Data%20Feed-June%202015%20-%2020150703%20(4).csv exists already, not downloading\n",
      "File Monthly%20Data%20Feed-June%202015%20-%2020150703%20(4).csv exists already, not downloading\n",
      "File Monthly%20Data%20Feed-June%202015%20-%2020150703%20(4).csv exists already, not downloading\n",
      "File Monthly%20Data%20Feed-June%202015%20-%2020150703%20(4).csv exists already, not downloading\n",
      "File Monthly%20Data%20Feed-May%202015%20-%2020150601%20(1).csv exists already, not downloading\n",
      "File Monthly%20Data%20Feed-May%202015%20-%2020150601%20(1).csv exists already, not downloading\n",
      "File Monthly%20Data%20Feed-May%202015%20-%2020150601%20(1).csv exists already, not downloading\n",
      "File Monthly%20Data%20Feed-May%202015%20-%2020150601%20(1).csv exists already, not downloading\n",
      "File Monthly%20Data%20Feed-April%202015%20-%2020150507.csv exists already, not downloading\n",
      "File Monthly%20Data%20Feed-April%202015%20-%2020150507.csv exists already, not downloading\n",
      "File Monthly%20Data%20Feed-April%202015%20-%2020150507.csv exists already, not downloading\n",
      "File Monthly%20Data%20Feed-April%202015%20-%2020150507.csv exists already, not downloading\n",
      "File monthly-data-feed-jan-2015-20150205.csv exists already, not downloading\n",
      "File monthly-data-feed-jan-2015-20150205.csv exists already, not downloading\n",
      "File monthly-data-feed-jan-2015-20150205.csv exists already, not downloading\n",
      "File monthly-data-feed-jan-2015-20150205.csv exists already, not downloading\n",
      "File monthly-data-feed-dec-2014-20150108.csv exists already, not downloading\n",
      "File monthly-data-feed-dec-2014-20150108.csv exists already, not downloading\n",
      "File monthly-data-feed-dec-2014-20150108.csv exists already, not downloading\n",
      "File monthly-data-feed-dec-2014-20150108.csv exists already, not downloading\n",
      "File monthly-data-feed-nov-2014-20141205.csv exists already, not downloading\n",
      "File monthly-data-feed-nov-2014-20141205.csv exists already, not downloading\n",
      "File monthly-data-feed-nov-2014-20141205.csv exists already, not downloading\n",
      "File monthly-data-feed-nov-2014-20141205.csv exists already, not downloading\n",
      "File monthly-data-feed-oct-2014-20141107.csv exists already, not downloading\n",
      "File monthly-data-feed-oct-2014-20141107.csv exists already, not downloading\n",
      "File monthly-data-feed-oct-2014-20141107.csv exists already, not downloading\n",
      "File monthly-data-feed-oct-2014-20141107.csv exists already, not downloading\n",
      "File monthly-data-feed-sept-2014-20141009.csv exists already, not downloading\n",
      "File monthly-data-feed-sept-2014-20141009.csv exists already, not downloading\n",
      "File monthly-data-feed-sept-2014-20141009.csv exists already, not downloading\n",
      "File monthly-data-feed-sept-2014-20141009.csv exists already, not downloading\n",
      "File monthly-data-feed-aug-2014-20140904.csv exists already, not downloading\n",
      "File monthly-data-feed-aug-2014-20140904.csv exists already, not downloading\n",
      "File monthly-data-feed-aug-2014-20140904.csv exists already, not downloading\n",
      "File monthly-data-feed-aug-2014-20140904.csv exists already, not downloading\n",
      "File monthly-data-feed-july-2014-20140811.csv exists already, not downloading\n",
      "File monthly-data-feed-july-2014-20140811.csv exists already, not downloading\n",
      "File monthly-data-feed-july-2014-20140811.csv exists already, not downloading\n",
      "File monthly-data-feed-july-2014-20140811.csv exists already, not downloading\n",
      "File monthly-data-feed-june-2014-20140710.csv exists already, not downloading\n",
      "File monthly-data-feed-june-2014-20140710.csv exists already, not downloading\n",
      "File monthly-data-feed-june-2014-20140710.csv exists already, not downloading\n",
      "File monthly-data-feed-june-2014-20140710.csv exists already, not downloading\n",
      "File footfall.csv exists already, not downloading\n",
      "File footfall.csv exists already, not downloading\n",
      "File footfall.csv exists already, not downloading\n",
      "File footfall.csv exists already, not downloading\n",
      "File headrow.csv exists already, not downloading\n",
      "File headrow.csv exists already, not downloading\n",
      "File headrow.csv exists already, not downloading\n",
      "File headrow.csv exists already, not downloading\n",
      "File dortmund-square.csv exists already, not downloading\n",
      "File dortmund-square.csv exists already, not downloading\n",
      "File dortmund-square.csv exists already, not downloading\n",
      "File dortmund-square.csv exists already, not downloading\n",
      "File commercial-street-at-lush.csv exists already, not downloading\n",
      "File commercial-street-at-lush.csv exists already, not downloading\n",
      "File commercial-street-at-lush.csv exists already, not downloading\n",
      "File commercial-street-at-lush.csv exists already, not downloading\n",
      "File commercial-street-at-barratts.csv exists already, not downloading\n",
      "File commercial-street-at-barratts.csv exists already, not downloading\n",
      "File commercial-street-at-barratts.csv exists already, not downloading\n",
      "File commercial-street-at-barratts.csv exists already, not downloading\n",
      "File briggate.csv exists already, not downloading\n",
      "File briggate.csv exists already, not downloading\n",
      "File briggate.csv exists already, not downloading\n",
      "File briggate.csv exists already, not downloading\n",
      "File briggate-at-mcdonalds.csv exists already, not downloading\n",
      "File briggate-at-mcdonalds.csv exists already, not downloading\n",
      "File briggate-at-mcdonalds.csv exists already, not downloading\n",
      "File briggate-at-mcdonalds.csv exists already, not downloading\n",
      "File albion-street-north.csv exists already, not downloading\n",
      "File albion-street-north.csv exists already, not downloading\n",
      "File albion-street-north.csv exists already, not downloading\n",
      "File albion-street-north.csv exists already, not downloading\n",
      "File albion-street-south.csv exists already, not downloading\n",
      "File albion-street-south.csv exists already, not downloading\n",
      "File albion-street-south.csv exists already, not downloading\n",
      "File albion-street-south.csv exists already, not downloading\n",
      "Finished\n"
     ]
    }
   ],
   "source": [
    "from bs4 import BeautifulSoup  # requirement beautifulsoup4\n",
    "from urllib.request import (\n",
    "    urlopen, urlretrieve)\n",
    "import matplotlib.pyplot as plt\n",
    "import matplotlib.dates as mdates\n",
    "from matplotlib.dates import DateFormatter\n",
    "import os, os.path\n",
    "import sys\n",
    "import pandas as pd\n",
    "import numpy as np\n",
    "\n",
    "data_dir = \"./data/lcc_footfall\"  # Where to save the csv files\n",
    "if not os.path.isdir(data_dir):\n",
    "    print(\"Creating data directory {}\".format(data_dir))\n",
    "    os.makedirs(data_dir)\n",
    "\n",
    "# Connect to the Data Mill North page and parse the html\n",
    "root = 'https://datamillnorth.org/dataset/leeds-city-centre-footfall-data'\n",
    "soup = BeautifulSoup(urlopen(root), 'html.parser')\n",
    "legit_copy_suff = [\"April%202019.csv\",\n",
    "                   \"May%202019.csv\",\n",
    "                   \"June%202019.csv\",\n",
    "                   \"July%202019.csv\",\n",
    "                   \"May%202020.csv\"]\n",
    "\n",
    "# Iterate over all links and see which are csv files\n",
    "for link in soup.find_all('a'):\n",
    "    # print(\"\\n****\",link,\"****\\n\")\n",
    "    url = link.get('href')\n",
    "    if url == None:  # if no 'href' tag\n",
    "        continue\n",
    "\n",
    "    if url.endswith(\".csv\"):\n",
    "        filename = url.strip().split(\"/\")[-1]  # File is last part of the url\n",
    "\n",
    "        # For some reason some files are duplicated\n",
    "        if (filename.startswith(\"Copy\") or filename.startswith(\"copy\")) and not filename.endswith(\n",
    "                tuple(legit_copy_suff)):\n",
    "            continue\n",
    "        # And we don't care about xmas analysis\n",
    "        if filename.startswith(\"Christ\"):\n",
    "            continue\n",
    "\n",
    "        # Save the csv file (unless it already exists already)\n",
    "        full_path = os.path.join(\"./data/lcc_footfall\", filename)\n",
    "        if os.path.isfile(full_path):\n",
    "            print(\"File {} exists already, not downloading\".format(filename))\n",
    "        else:\n",
    "            print(\"Downloading {}\".format(filename))\n",
    "            csv_url = \"https://datamillnorth.org/\" + url\n",
    "            data = pd.read_csv(csv_url)\n",
    "            data.to_csv(full_path)\n",
    "\n",
    "print(\"Finished\")"
   ]
  },
  {
   "cell_type": "code",
   "execution_count": 62,
   "metadata": {
    "pycharm": {
     "name": "#%%\n"
    }
   },
   "outputs": [
    {
     "name": "stdout",
     "output_type": "stream",
     "text": [
      "File Monthly%20Data%20Feed%20-%20%20Jan%202018.csv has nans in the following columns: '['Hour']'. Ignoring it\n",
      "File Monthly%20Data%20Feed%20-%20Dec%202017.csv has nans in the following columns: '['Hour']'. Ignoring it\n",
      "File Monthly%20Data%20Feed%20-%20Nov%202017.csv has nans in the following columns: '['Hour']'. Ignoring it\n",
      "File Monthly%20Data%20Feed-April%202017%20-%2020170510.csv has nans in the following columns: '['Date', 'InCount', 'Hour', 'Location']'. Ignoring it\n",
      "File Monthly%20Data%20Feed-Feb%202018.csv has nans in the following columns: '['Hour']'. Ignoring it\n",
      "File Monthly%20Data%20Feed-March%202018.csv has nans in the following columns: '['Hour']'. Ignoring it\n",
      "Finished. Made a dataframe with 724390 rows. 6/111 files could not be read.\n"
     ]
    }
   ],
   "source": [
    "def convert_hour(series):\n",
    "    \"\"\"Assumes the given series represents hours. Works out if they're\n",
    "    integers or in the format '03:00:00' and returns them as integers\"\"\"\n",
    "\n",
    "    # If it's a number then just return it\n",
    "    if isinstance(series.values[0], np.int64) or isinstance(series.values[0], np.float64) or isinstance(\n",
    "            series.values[0], float):\n",
    "        return series\n",
    "\n",
    "    # If it's a string see if it can be made into a number\n",
    "    try:\n",
    "        int(series.values[0])\n",
    "        return pd.to_numeric(series)\n",
    "    except:  # If get here then it couldn't be made into an integer\n",
    "        pass\n",
    "\n",
    "    if \":\" in series.values[0]:\n",
    "        return pd.to_numeric(series.apply(lambda x: x.strip().split(\":\")[0]))\n",
    "\n",
    "    # If here then I don't know what to do.\n",
    "    raise Exception(\"Unrecognised type of hours: {}\".format(series))\n",
    "\n",
    "\n",
    "# Template for our data frame. Set the type as well (default type is OK for 'location' and 'FileName')\n",
    "template = pd.DataFrame(columns=[\"Location\", \"Date\", \"Hour\", \"Count\", \"DateTime\", \"FileName\"])\n",
    "template[\"Date\"] = pd.to_datetime(template[\"Date\"], dayfirst=True)\n",
    "template[\"Hour\"] = pd.to_numeric(template[\"Hour\"])\n",
    "template[\"Count\"] = pd.to_numeric(template[\"Count\"])\n",
    "template[\"DateTime\"] = pd.to_datetime(template[\"DateTime\"])  # (this one is derived from date and hour)\n",
    "\n",
    "frames = []  # Build up a load of dataframes then merge them\n",
    "total_rows = 0  # For checking that the merge works\n",
    "files = []  # Remember the names of the files we tried to analyse\n",
    "failures = []  # Remember which ones didn't work\n",
    "\n",
    "# Read the files in\n",
    "for filename in os.listdir(data_dir):\n",
    "    if filename.endswith(\".csv\"):\n",
    "        try:\n",
    "            # print(filename)\n",
    "            files.append(filename)\n",
    "            df = pd.read_csv(os.path.join(data_dir, filename))\n",
    "\n",
    "            # Check the file has the columns that we need, and work out what the column names are for this file (annoyingly it changes)\n",
    "            date_col = \"Date\"  # Doesn't change\n",
    "            count_col = \"Count\" if \"Count\" in df.columns else \"InCount\"  # Two options\n",
    "            hour_col = \"Hour\"\n",
    "            loc_col = \"Location\" if \"Location\" in df.columns else \"LocationName\"\n",
    "\n",
    "            if False in [date_col in df.columns, count_col in df.columns, hour_col in df.columns,\n",
    "                         loc_col in df.columns]:\n",
    "                raise Exception(\"File '{}' is missing a column. Date? {}, Count? {}, Hour? {}, Location? {}\".\n",
    "                                format(filename, date_col in df.columns, count_col in df.columns,\n",
    "                                       hour_col in df.columns, loc_col in df.columns))\n",
    "\n",
    "            # Check if any of the columns have nans\n",
    "            bad_cols = []\n",
    "            for x in [date_col, count_col, hour_col, loc_col]:\n",
    "                if True in df[x].isnull().values:\n",
    "                    bad_cols.append(x)\n",
    "            if len(bad_cols) > 0:\n",
    "                failures.append(filename)\n",
    "                print(f\"File {filename} has nans in the following columns: '{str(bad_cols)}'. Ignoring it\")\n",
    "                continue\n",
    "\n",
    "            # Create Series' that will represent each column\n",
    "            dates = pd.to_datetime(df[date_col], dayfirst=True)\n",
    "            counts = pd.to_numeric(df[count_col])\n",
    "            hours = convert_hour(df[hour_col])  # Hours can come in different forms\n",
    "            locs = df[loc_col]\n",
    "\n",
    "            # Strip whitespace from the locations\n",
    "            locs = locs.apply(lambda row: row.strip())\n",
    "\n",
    "            # Derive a proper date from the date and hour\n",
    "            # (Almost certainly a more efficient way to do this using 'apply' or whatever)\n",
    "            dt = pd.to_datetime(pd.Series(data=[date.replace(hour=hour) for date, hour in zip(dates, hours)]))\n",
    "\n",
    "            # Also useful to have the filename\n",
    "            fnames = [filename for _ in range(len(df))]\n",
    "\n",
    "            # df.apply(lambda x: x[date_col].replace(hour = x[hour_col]), axis=1)\n",
    "\n",
    "            if False in [len(df) == len(x) for x in [dates, counts, hours, locs, dt]]:\n",
    "                raise Exception(\"One of the dataframe columns does not have enough values\")\n",
    "            total_rows += len(df)\n",
    "\n",
    "            # Create a temporary dataframe to represent the information in that file.\n",
    "            # Note that consistent column names (defined above) are used\n",
    "            frames.append(pd.DataFrame(data=\n",
    "                                       {\"Location\": locs, \"Date\": dates, \"Hour\": hours,\n",
    "                                        \"Count\": counts, \"DateTime\": dt, \"FileName\": fnames}))\n",
    "\n",
    "        except Exception as e:\n",
    "            print(\"Caught exception on file {}\".format(filename))\n",
    "            raise e\n",
    "\n",
    "# Finally megre the frames into one big one\n",
    "merged_frames = pd.concat(frames)\n",
    "if total_rows != len(merged_frames):\n",
    "    raise Exception(f\"The number of rows in the individual files {total_rows} does \\\n",
    "not match those in the final dataframe {len(merged_frames)}.\")\n",
    "\n",
    "footfall_data = template.append(merged_frames)\n",
    "\n",
    "print(\n",
    "    f\"Finished. Made a dataframe with {len(footfall_data)} rows. {len(failures)}/{len(files)} files could not be read.\")\n"
   ]
  },
  {
   "cell_type": "markdown",
   "source": [
    "Have a look at head, cols etc"
   ],
   "metadata": {
    "collapsed": false,
    "pycharm": {
     "name": "#%% md\n"
    }
   }
  },
  {
   "cell_type": "code",
   "execution_count": 63,
   "outputs": [
    {
     "data": {
      "text/plain": "              Location       Date  Hour  Count            DateTime  \\\n0  Albion Street South 2020-08-03     0      3 2020-08-03 00:00:00   \n1  Albion Street South 2020-08-03     1      6 2020-08-03 01:00:00   \n2  Albion Street South 2020-08-03     2      1 2020-08-03 02:00:00   \n3  Albion Street South 2020-08-03     3     30 2020-08-03 03:00:00   \n4  Albion Street South 2020-08-03     4     20 2020-08-03 04:00:00   \n\n                   FileName  \n0  03.08.20%20-09.08.20.csv  \n1  03.08.20%20-09.08.20.csv  \n2  03.08.20%20-09.08.20.csv  \n3  03.08.20%20-09.08.20.csv  \n4  03.08.20%20-09.08.20.csv  ",
      "text/html": "<div>\n<style scoped>\n    .dataframe tbody tr th:only-of-type {\n        vertical-align: middle;\n    }\n\n    .dataframe tbody tr th {\n        vertical-align: top;\n    }\n\n    .dataframe thead th {\n        text-align: right;\n    }\n</style>\n<table border=\"1\" class=\"dataframe\">\n  <thead>\n    <tr style=\"text-align: right;\">\n      <th></th>\n      <th>Location</th>\n      <th>Date</th>\n      <th>Hour</th>\n      <th>Count</th>\n      <th>DateTime</th>\n      <th>FileName</th>\n    </tr>\n  </thead>\n  <tbody>\n    <tr>\n      <th>0</th>\n      <td>Albion Street South</td>\n      <td>2020-08-03</td>\n      <td>0</td>\n      <td>3</td>\n      <td>2020-08-03 00:00:00</td>\n      <td>03.08.20%20-09.08.20.csv</td>\n    </tr>\n    <tr>\n      <th>1</th>\n      <td>Albion Street South</td>\n      <td>2020-08-03</td>\n      <td>1</td>\n      <td>6</td>\n      <td>2020-08-03 01:00:00</td>\n      <td>03.08.20%20-09.08.20.csv</td>\n    </tr>\n    <tr>\n      <th>2</th>\n      <td>Albion Street South</td>\n      <td>2020-08-03</td>\n      <td>2</td>\n      <td>1</td>\n      <td>2020-08-03 02:00:00</td>\n      <td>03.08.20%20-09.08.20.csv</td>\n    </tr>\n    <tr>\n      <th>3</th>\n      <td>Albion Street South</td>\n      <td>2020-08-03</td>\n      <td>3</td>\n      <td>30</td>\n      <td>2020-08-03 03:00:00</td>\n      <td>03.08.20%20-09.08.20.csv</td>\n    </tr>\n    <tr>\n      <th>4</th>\n      <td>Albion Street South</td>\n      <td>2020-08-03</td>\n      <td>4</td>\n      <td>20</td>\n      <td>2020-08-03 04:00:00</td>\n      <td>03.08.20%20-09.08.20.csv</td>\n    </tr>\n  </tbody>\n</table>\n</div>"
     },
     "execution_count": 63,
     "metadata": {},
     "output_type": "execute_result"
    }
   ],
   "source": [
    "footfall_data.head()"
   ],
   "metadata": {
    "collapsed": false,
    "pycharm": {
     "name": "#%%\n"
    }
   }
  },
  {
   "cell_type": "code",
   "execution_count": 64,
   "outputs": [
    {
     "data": {
      "text/plain": "Index(['Location', 'Date', 'Hour', 'Count', 'DateTime', 'FileName'], dtype='object')"
     },
     "execution_count": 64,
     "metadata": {},
     "output_type": "execute_result"
    }
   ],
   "source": [
    "footfall_data.columns"
   ],
   "metadata": {
    "collapsed": false,
    "pycharm": {
     "name": "#%%\n"
    }
   }
  },
  {
   "cell_type": "markdown",
   "source": [
    "Check for missing values"
   ],
   "metadata": {
    "collapsed": false,
    "pycharm": {
     "name": "#%% md\n"
    }
   }
  },
  {
   "cell_type": "code",
   "execution_count": 65,
   "outputs": [
    {
     "data": {
      "text/plain": "Location    0\nDate        0\nHour        0\nCount       0\nDateTime    0\nFileName    0\ndtype: int64"
     },
     "execution_count": 65,
     "metadata": {},
     "output_type": "execute_result"
    }
   ],
   "source": [
    "footfall_data.isnull().sum()"
   ],
   "metadata": {
    "collapsed": false,
    "pycharm": {
     "name": "#%%\n"
    }
   }
  },
  {
   "cell_type": "markdown",
   "source": [
    "Create a summary table of locations with the total number of entries per location and total footfall"
   ],
   "metadata": {
    "collapsed": false,
    "pycharm": {
     "name": "#%% md\n"
    }
   }
  },
  {
   "cell_type": "code",
   "execution_count": 66,
   "outputs": [
    {
     "data": {
      "text/plain": "                                     sum   count\nLocation                                        \nAlbion Street North             58998097   72526\nAlbion Street South             95068685   95760\nAlbion Street at McDonalds        527455    2184\nBriggate                       136216720  104472\nBriggate at McDonalds           57209448   96240\nCommercial Street at Barratts   55805192   65232\nCommercial Street at Lush       73102274   59208\nCommercial Street at Sharps     31601863   37032\nDortmund Square                 85912496   94776\nHeadrow                         58622581   94776\nPark Row                          324302    2184",
      "text/html": "<div>\n<style scoped>\n    .dataframe tbody tr th:only-of-type {\n        vertical-align: middle;\n    }\n\n    .dataframe tbody tr th {\n        vertical-align: top;\n    }\n\n    .dataframe thead th {\n        text-align: right;\n    }\n</style>\n<table border=\"1\" class=\"dataframe\">\n  <thead>\n    <tr style=\"text-align: right;\">\n      <th></th>\n      <th>sum</th>\n      <th>count</th>\n    </tr>\n    <tr>\n      <th>Location</th>\n      <th></th>\n      <th></th>\n    </tr>\n  </thead>\n  <tbody>\n    <tr>\n      <th>Albion Street North</th>\n      <td>58998097</td>\n      <td>72526</td>\n    </tr>\n    <tr>\n      <th>Albion Street South</th>\n      <td>95068685</td>\n      <td>95760</td>\n    </tr>\n    <tr>\n      <th>Albion Street at McDonalds</th>\n      <td>527455</td>\n      <td>2184</td>\n    </tr>\n    <tr>\n      <th>Briggate</th>\n      <td>136216720</td>\n      <td>104472</td>\n    </tr>\n    <tr>\n      <th>Briggate at McDonalds</th>\n      <td>57209448</td>\n      <td>96240</td>\n    </tr>\n    <tr>\n      <th>Commercial Street at Barratts</th>\n      <td>55805192</td>\n      <td>65232</td>\n    </tr>\n    <tr>\n      <th>Commercial Street at Lush</th>\n      <td>73102274</td>\n      <td>59208</td>\n    </tr>\n    <tr>\n      <th>Commercial Street at Sharps</th>\n      <td>31601863</td>\n      <td>37032</td>\n    </tr>\n    <tr>\n      <th>Dortmund Square</th>\n      <td>85912496</td>\n      <td>94776</td>\n    </tr>\n    <tr>\n      <th>Headrow</th>\n      <td>58622581</td>\n      <td>94776</td>\n    </tr>\n    <tr>\n      <th>Park Row</th>\n      <td>324302</td>\n      <td>2184</td>\n    </tr>\n  </tbody>\n</table>\n</div>"
     },
     "execution_count": 66,
     "metadata": {},
     "output_type": "execute_result"
    }
   ],
   "source": [
    "#Groups footfall data by location and runs two functions on Count, sum and count to generate summaries.\n",
    "summary_counts = footfall_data.groupby(['Location'])['Count'].agg(['sum', 'count'])\n",
    "#Display summary counts\n",
    "summary_counts"
   ],
   "metadata": {
    "collapsed": false,
    "pycharm": {
     "name": "#%%\n"
    }
   }
  },
  {
   "cell_type": "markdown",
   "source": [
    "Check that there are no duplicates by evaluating whether combinations of location and datetime are unique."
   ],
   "metadata": {
    "collapsed": false,
    "pycharm": {
     "name": "#%% md\n"
    }
   }
  },
  {
   "cell_type": "code",
   "execution_count": 67,
   "outputs": [
    {
     "name": "stdout",
     "output_type": "stream",
     "text": [
      "Footfall dataframe contains 6768 duplicate location/datetime combinations\n",
      "                   Location            DateTime  UniqueRowsCount\n",
      "138214  Albion Street South 2017-06-01 00:00:00                2\n",
      "138215  Albion Street South 2017-06-01 01:00:00                2\n",
      "138216  Albion Street South 2017-06-01 02:00:00                2\n",
      "138217  Albion Street South 2017-06-01 03:00:00                2\n",
      "138218  Albion Street South 2017-06-01 04:00:00                2\n",
      "...                     ...                 ...              ...\n",
      "694673              Headrow 2018-12-12 19:00:00                2\n",
      "694674              Headrow 2018-12-12 20:00:00                2\n",
      "694675              Headrow 2018-12-12 21:00:00                2\n",
      "694676              Headrow 2018-12-12 22:00:00                2\n",
      "694677              Headrow 2018-12-12 23:00:00                2\n",
      "\n",
      "[6768 rows x 3 columns]\n"
     ]
    }
   ],
   "source": [
    "#Groups footfall data by location and datetime, counting the number of occurrences by calling size.\n",
    "#Also Resets the index to restore the grouped columns and renames the size column to UniqueRowsCount\n",
    "unq_loc_datetime = footfall_data.groupby(\n",
    "    ['Location', 'DateTime']).size().reset_index().rename(columns={0: 'UniqueRowsCount'})\n",
    "unq_loc_datetime\n",
    "\n",
    "#Check to see if there are any values in the UniqueRowsCount column greater than one (indicating there are duplicate rows)\n",
    "if len(unq_loc_datetime[unq_loc_datetime.UniqueRowsCount > 1]) > 1:\n",
    "    #Print how many duplicate combinations there are then print a summary of the records\n",
    "    print(\n",
    "        f\"Footfall dataframe contains {len(unq_loc_datetime[unq_loc_datetime.UniqueRowsCount > 1])} duplicate location/datetime combinations\")\n",
    "    print(unq_loc_datetime[unq_loc_datetime.UniqueRowsCount > 1])\n",
    "\n",
    "del unq_loc_datetime"
   ],
   "metadata": {
    "collapsed": false,
    "pycharm": {
     "name": "#%%\n"
    }
   }
  },
  {
   "cell_type": "markdown",
   "source": [
    "As this data cleaning process is adapted from Nick Malleson's exploration of the footfall data, I'll bypass investigating why there are duplicates as he's already done this.  Safe to say that the numbers we both found are identical and seem to be due to errors in the csv files rather than code.  There doesn't appear to be anything new since introducing more recent data files so I'll remove the duplicates and carry on cleaning."
   ],
   "metadata": {
    "collapsed": false,
    "pycharm": {
     "name": "#%% md\n"
    }
   }
  },
  {
   "cell_type": "code",
   "execution_count": 68,
   "outputs": [
    {
     "name": "stdout",
     "output_type": "stream",
     "text": [
      "There are 0 duplicates left\n"
     ]
    }
   ],
   "source": [
    "#Drop duplicates from dataframe\n",
    "ffd_no_dup = footfall_data.drop_duplicates()\n",
    "#Rerun duplicate check\n",
    "unq_loc_datetime = ffd_no_dup.groupby(\n",
    "    ['Location', 'DateTime']).size().reset_index().rename(columns={0: 'UniqueRowsCount'})\n",
    "print(f\"There are {len(unq_loc_datetime[unq_loc_datetime.UniqueRowsCount > 1])} duplicates left\")\n",
    "\n",
    "ffdf = ffd_no_dup\n",
    "\n",
    "ffdf.head()\n",
    "\n",
    "del unq_loc_datetime, ffd_no_dup"
   ],
   "metadata": {
    "collapsed": false,
    "pycharm": {
     "name": "#%%\n"
    }
   }
  },
  {
   "cell_type": "markdown",
   "source": [
    "Nick also combined the cameras at Commercial Street Lush and Commercial Street Sharps as he found that they'd moved.  The process to do so is below:"
   ],
   "metadata": {
    "collapsed": false,
    "pycharm": {
     "name": "#%% md\n"
    }
   }
  },
  {
   "cell_type": "code",
   "execution_count": 69,
   "outputs": [
    {
     "name": "stdout",
     "output_type": "stream",
     "text": [
      "103489491\n",
      "Footfall hasn't changed\n",
      "Total footfall when seperate 103489491\n",
      "Total when combined 103489491\n"
     ]
    }
   ],
   "source": [
    "#First calculate the total footfall of the two cameras combined\n",
    "\n",
    "cameras_to_combine = ffdf.loc[ffdf.Location.isin([\"Commercial Street at Lush\",\n",
    "                                                  \"Commercial Street at Sharps\"])]\n",
    "\n",
    "total_when_seperate = sum(cameras_to_combine['Count'])\n",
    "print(total_when_seperate)\n",
    "\n",
    "ffdf = ffdf.replace({'Location': {'Commercial Street at Lush': 'Commercial Street Combined',\n",
    "                                  'Commercial Street at Sharps': 'Commercial Street Combined'}})\n",
    "\n",
    "ffdf.loc[ffdf.Location == \"Commercial Street Combined\"]\n",
    "\n",
    "# Check the total footfall in those two Commercial Street locations hasn't changed\n",
    "total_combined = sum(ffdf.loc[ffdf.Location == \"Commercial Street Combined\", \"Count\"])\n",
    "\n",
    "if total_when_seperate == total_combined:\n",
    "    print(\"Footfall hasn't changed\")\n",
    "else:\n",
    "    print(\"Footfall has changed\")\n",
    "\n",
    "#Uses an f-string (Literal String Interpolation) to print out the differences in footfall if any.\n",
    "print(f\"Total footfall when seperate {total_when_seperate}\\nTotal when combined {total_combined}\")\n",
    "\n",
    "ffdf.groupby(['Location'])['Count'].agg(['sum', 'count'])\n",
    "\n",
    "del cameras_to_combine, total_combined, total_when_seperate"
   ],
   "metadata": {
    "collapsed": false,
    "pycharm": {
     "name": "#%%\n"
    }
   }
  },
  {
   "cell_type": "markdown",
   "source": [
    "Remove any entries that occurred before 2008-08-27 as this is the latest that any camera comes online."
   ],
   "metadata": {
    "collapsed": false,
    "pycharm": {
     "name": "#%% md\n"
    }
   }
  },
  {
   "cell_type": "code",
   "execution_count": 70,
   "outputs": [
    {
     "data": {
      "text/plain": "                                     sum  count\nLocation                                       \nAlbion Street North             58755468  72262\nAlbion Street South             93210868  93768\nAlbion Street at McDonalds        527455   2184\nBriggate                       120125290  93768\nBriggate at McDonalds           55558439  93768\nCommercial Street Combined     100767232  93768\nCommercial Street at Barratts   55805192  65232\nDortmund Square                 84937489  93768\nHeadrow                         57746768  93768\nPark Row                          324302   2184",
      "text/html": "<div>\n<style scoped>\n    .dataframe tbody tr th:only-of-type {\n        vertical-align: middle;\n    }\n\n    .dataframe tbody tr th {\n        vertical-align: top;\n    }\n\n    .dataframe thead th {\n        text-align: right;\n    }\n</style>\n<table border=\"1\" class=\"dataframe\">\n  <thead>\n    <tr style=\"text-align: right;\">\n      <th></th>\n      <th>sum</th>\n      <th>count</th>\n    </tr>\n    <tr>\n      <th>Location</th>\n      <th></th>\n      <th></th>\n    </tr>\n  </thead>\n  <tbody>\n    <tr>\n      <th>Albion Street North</th>\n      <td>58755468</td>\n      <td>72262</td>\n    </tr>\n    <tr>\n      <th>Albion Street South</th>\n      <td>93210868</td>\n      <td>93768</td>\n    </tr>\n    <tr>\n      <th>Albion Street at McDonalds</th>\n      <td>527455</td>\n      <td>2184</td>\n    </tr>\n    <tr>\n      <th>Briggate</th>\n      <td>120125290</td>\n      <td>93768</td>\n    </tr>\n    <tr>\n      <th>Briggate at McDonalds</th>\n      <td>55558439</td>\n      <td>93768</td>\n    </tr>\n    <tr>\n      <th>Commercial Street Combined</th>\n      <td>100767232</td>\n      <td>93768</td>\n    </tr>\n    <tr>\n      <th>Commercial Street at Barratts</th>\n      <td>55805192</td>\n      <td>65232</td>\n    </tr>\n    <tr>\n      <th>Dortmund Square</th>\n      <td>84937489</td>\n      <td>93768</td>\n    </tr>\n    <tr>\n      <th>Headrow</th>\n      <td>57746768</td>\n      <td>93768</td>\n    </tr>\n    <tr>\n      <th>Park Row</th>\n      <td>324302</td>\n      <td>2184</td>\n    </tr>\n  </tbody>\n</table>\n</div>"
     },
     "execution_count": 70,
     "metadata": {},
     "output_type": "execute_result"
    }
   ],
   "source": [
    "ffdf = ffdf.loc[ffdf.DateTime >= '2008-08-27']\n",
    "\n",
    "ffdf.groupby(['Location'])['Count'].agg(['sum', 'count'])"
   ],
   "metadata": {
    "collapsed": false,
    "pycharm": {
     "name": "#%%\n"
    }
   }
  },
  {
   "cell_type": "code",
   "execution_count": 71,
   "outputs": [
    {
     "name": "stdout",
     "output_type": "stream",
     "text": [
      "718 days have no footfall\n",
      "99 weeks have no footfall\n",
      "21 months have no footfall\n",
      "DateTime\n",
      "2015-03-31    0\n",
      "2015-12-31    0\n",
      "2016-02-29    0\n",
      "2016-03-31    0\n",
      "2016-06-30    0\n",
      "2016-07-31    0\n",
      "2016-08-31    0\n",
      "2016-11-30    0\n",
      "2016-12-31    0\n",
      "2017-01-31    0\n",
      "2017-02-28    0\n",
      "2017-03-31    0\n",
      "2017-04-30    0\n",
      "2017-09-30    0\n",
      "2017-10-31    0\n",
      "2017-11-30    0\n",
      "2017-12-31    0\n",
      "2018-01-31    0\n",
      "2018-02-28    0\n",
      "2018-03-31    0\n",
      "2018-10-31    0\n",
      "Name: Count, dtype: int64\n"
     ]
    }
   ],
   "source": [
    "#Aggregate all locations into a grouped dataframe and set the index to DateTime.  Show count as the only values column.\n",
    "ffdf_grouped = ffdf.groupby(['DateTime'])['Count'].sum().reset_index().set_index('DateTime')\n",
    "\n",
    "grouped_days = ffdf_grouped.resample('D').sum()\n",
    "print(f\"{len(grouped_days.loc[grouped_days.Count == 0, 'Count'])} days have no footfall\")\n",
    "grouped_weeks = ffdf_grouped.resample('W').sum()\n",
    "print(f\"{len(grouped_weeks.loc[grouped_weeks.Count == 0, 'Count'])} weeks have no footfall\")\n",
    "grouped_months = ffdf_grouped.resample('M').sum()\n",
    "print(f\"{len(grouped_months.loc[grouped_months.Count == 0, 'Count'])} months have no footfall\")\n",
    "\n",
    "print(f\"{grouped_months.loc[grouped_months.Count == 0, 'Count']}\")\n",
    "\n",
    "del grouped_days, grouped_months, grouped_weeks, ffdf_grouped"
   ],
   "metadata": {
    "collapsed": false,
    "pycharm": {
     "name": "#%%\n"
    }
   }
  },
  {
   "cell_type": "markdown",
   "source": [
    "Investigate how many days have hours missing."
   ],
   "metadata": {
    "collapsed": false,
    "pycharm": {
     "name": "#%% md\n"
    }
   }
  },
  {
   "cell_type": "code",
   "execution_count": 72,
   "outputs": [],
   "source": [
    "#Use a pd.grouper to allow further grouping by DateTime, avoiding having to set the index after grouping by Location\n",
    "hours_missing = ffdf.groupby(['Location', pd.Grouper(key='DateTime',\n",
    "                                                     freq='D')]).count().reset_index()  # including reset_index here basically ensures every entry has the relevant Location value and a unique index that can be accessed.\n",
    "hours_missing.loc[hours_missing.Date < 24]\n",
    "\n",
    "del hours_missing"
   ],
   "metadata": {
    "collapsed": false,
    "pycharm": {
     "name": "#%%\n"
    }
   }
  },
  {
   "cell_type": "markdown",
   "source": [
    "There aren't many days with hours missing so these can be left in."
   ],
   "metadata": {
    "collapsed": false,
    "pycharm": {
     "name": "#%% md\n"
    }
   }
  },
  {
   "cell_type": "code",
   "execution_count": 73,
   "outputs": [
    {
     "data": {
      "text/plain": "      DateTime  Count\n79  2015-03-31      0\n88  2015-12-31      0\n90  2016-02-29      0\n91  2016-03-31      0\n94  2016-06-30      0\n95  2016-07-31      0\n96  2016-08-31      0\n99  2016-11-30      0\n100 2016-12-31      0\n101 2017-01-31      0\n102 2017-02-28      0\n103 2017-03-31      0\n104 2017-04-30      0\n109 2017-09-30      0\n110 2017-10-31      0\n111 2017-11-30      0\n112 2017-12-31      0\n113 2018-01-31      0\n114 2018-02-28      0\n115 2018-03-31      0\n122 2018-10-31      0",
      "text/html": "<div>\n<style scoped>\n    .dataframe tbody tr th:only-of-type {\n        vertical-align: middle;\n    }\n\n    .dataframe tbody tr th {\n        vertical-align: top;\n    }\n\n    .dataframe thead th {\n        text-align: right;\n    }\n</style>\n<table border=\"1\" class=\"dataframe\">\n  <thead>\n    <tr style=\"text-align: right;\">\n      <th></th>\n      <th>DateTime</th>\n      <th>Count</th>\n    </tr>\n  </thead>\n  <tbody>\n    <tr>\n      <th>79</th>\n      <td>2015-03-31</td>\n      <td>0</td>\n    </tr>\n    <tr>\n      <th>88</th>\n      <td>2015-12-31</td>\n      <td>0</td>\n    </tr>\n    <tr>\n      <th>90</th>\n      <td>2016-02-29</td>\n      <td>0</td>\n    </tr>\n    <tr>\n      <th>91</th>\n      <td>2016-03-31</td>\n      <td>0</td>\n    </tr>\n    <tr>\n      <th>94</th>\n      <td>2016-06-30</td>\n      <td>0</td>\n    </tr>\n    <tr>\n      <th>95</th>\n      <td>2016-07-31</td>\n      <td>0</td>\n    </tr>\n    <tr>\n      <th>96</th>\n      <td>2016-08-31</td>\n      <td>0</td>\n    </tr>\n    <tr>\n      <th>99</th>\n      <td>2016-11-30</td>\n      <td>0</td>\n    </tr>\n    <tr>\n      <th>100</th>\n      <td>2016-12-31</td>\n      <td>0</td>\n    </tr>\n    <tr>\n      <th>101</th>\n      <td>2017-01-31</td>\n      <td>0</td>\n    </tr>\n    <tr>\n      <th>102</th>\n      <td>2017-02-28</td>\n      <td>0</td>\n    </tr>\n    <tr>\n      <th>103</th>\n      <td>2017-03-31</td>\n      <td>0</td>\n    </tr>\n    <tr>\n      <th>104</th>\n      <td>2017-04-30</td>\n      <td>0</td>\n    </tr>\n    <tr>\n      <th>109</th>\n      <td>2017-09-30</td>\n      <td>0</td>\n    </tr>\n    <tr>\n      <th>110</th>\n      <td>2017-10-31</td>\n      <td>0</td>\n    </tr>\n    <tr>\n      <th>111</th>\n      <td>2017-11-30</td>\n      <td>0</td>\n    </tr>\n    <tr>\n      <th>112</th>\n      <td>2017-12-31</td>\n      <td>0</td>\n    </tr>\n    <tr>\n      <th>113</th>\n      <td>2018-01-31</td>\n      <td>0</td>\n    </tr>\n    <tr>\n      <th>114</th>\n      <td>2018-02-28</td>\n      <td>0</td>\n    </tr>\n    <tr>\n      <th>115</th>\n      <td>2018-03-31</td>\n      <td>0</td>\n    </tr>\n    <tr>\n      <th>122</th>\n      <td>2018-10-31</td>\n      <td>0</td>\n    </tr>\n  </tbody>\n</table>\n</div>"
     },
     "execution_count": 73,
     "metadata": {},
     "output_type": "execute_result"
    }
   ],
   "source": [
    "grouped_months = ffdf.resample('M', on='DateTime').sum().reset_index()\n",
    "zero_days = grouped_months.loc[grouped_months.Count < 1, [\"DateTime\", \"Count\"]]\n",
    "zero_days\n",
    "\n",
    "# for date in zero_days['DateTime']:\n",
    "#     print(date)\n",
    "#     print(ffdf.loc[(ffdf.DateTime >= date.replace(hour=0)) & (ffdf.DateTime <= date.replace(hour=23)), :])"
   ],
   "metadata": {
    "collapsed": false,
    "pycharm": {
     "name": "#%%\n"
    }
   }
  },
  {
   "cell_type": "code",
   "execution_count": 74,
   "outputs": [],
   "source": [
    "#Create weekday numbers and names, plus months and years.\n",
    "# ffdf['weekday'] = ffdf['DateTime'].dt.dayofweek\n",
    "# ffdf['weekdayname'] = ffdf['DateTime'].dt.day_name()\n",
    "# ffdf['weekno'] = ffdf['DateTime'].dt.isocalendar().week\n",
    "# ffdf['month'] = ffdf['DateTime'].dt.month\n",
    "# ffdf['year'] = ffdf['DateTime'].dt.year\n",
    "# ffdf"
   ],
   "metadata": {
    "collapsed": false,
    "pycharm": {
     "name": "#%%\n"
    }
   }
  },
  {
   "cell_type": "markdown",
   "source": [
    "Output to CSV file for analysis elsewhere"
   ],
   "metadata": {
    "collapsed": false,
    "pycharm": {
     "name": "#%% md\n"
    }
   }
  },
  {
   "cell_type": "code",
   "execution_count": 75,
   "outputs": [],
   "source": [
    "ffdf.to_csv(\"./data/lcc_footfall_combined.csv\")\n"
   ],
   "metadata": {
    "collapsed": false,
    "pycharm": {
     "name": "#%%\n"
    }
   }
  },
  {
   "cell_type": "code",
   "execution_count": 76,
   "outputs": [
    {
     "name": "stdout",
     "output_type": "stream",
     "text": [
      "            Hour       Count\n",
      "DateTime                    \n",
      "2020-01-31  11.5  806.301971\n",
      "2020-02-29  11.5  808.128352\n",
      "2020-03-31  11.5  531.911514\n",
      "2020-04-30  11.5   91.059722\n",
      "2020-05-31  11.5  109.035618\n",
      "2020-06-30  11.5  253.799537\n",
      "2020-07-31  11.5  457.924283\n",
      "2020-08-31  11.5  579.253808\n",
      "2020-09-30  11.5  465.167917\n",
      "2020-10-31  11.5  411.943710\n",
      "2020-11-30  11.5  275.595602\n",
      "2020-12-31  11.5  580.602823             Hour       Count\n",
      "DateTime                    \n",
      "2020-01-01  11.5  806.301971\n",
      "2020-02-01  11.5  808.128352\n",
      "2020-03-01  11.5  531.911514\n",
      "2020-04-01  11.5   91.059722\n",
      "2020-05-01  11.5  109.035618\n",
      "2020-06-01  11.5  253.799537\n",
      "2020-07-01  11.5  457.924283\n",
      "2020-08-01  11.5  579.253808\n",
      "2020-09-01  11.5  465.167917\n",
      "2020-10-01  11.5  411.943710\n",
      "2020-11-01  11.5  275.595602\n",
      "2020-12-01  11.5  580.602823\n"
     ]
    }
   ],
   "source": [
    "dataMS = ffdf.set_index('DateTime').loc['2020'].groupby(\n",
    "    [pd.Grouper(level=\"DateTime\",\n",
    "                freq=\"MS\")]).aggregate(np.mean)\n",
    "\n",
    "dataM = ffdf.set_index('DateTime').loc['2020'].groupby(\n",
    "    [pd.Grouper(level=\"DateTime\",\n",
    "                freq=\"M\")]).aggregate(np.mean)\n",
    "\n",
    "print(dataM, dataMS)"
   ],
   "metadata": {
    "collapsed": false,
    "pycharm": {
     "name": "#%%\n"
    }
   }
  },
  {
   "cell_type": "markdown",
   "source": [
    "Created a function that creates a summary of total footfall and the mean of all instances of a time interval\n",
    "(ie. all weekdays in camera history)."
   ],
   "metadata": {
    "collapsed": false,
    "pycharm": {
     "name": "#%% md\n"
    }
   }
  },
  {
   "cell_type": "code",
   "execution_count": 77,
   "outputs": [
    {
     "data": {
      "text/plain": "   weekday weekdayname        sum         mean\n0        0      Monday   82998956  5239.833081\n1        1     Tuesday   85806660  5417.087121\n2        2   Wednesday   86595926  5458.643848\n3        3    Thursday   90788054  5722.898008\n4        4      Friday   97117640  6121.888553\n5        5    Saturday  123688038  7796.774962\n6        6      Sunday   60763229  3830.259014",
      "text/html": "<div>\n<style scoped>\n    .dataframe tbody tr th:only-of-type {\n        vertical-align: middle;\n    }\n\n    .dataframe tbody tr th {\n        vertical-align: top;\n    }\n\n    .dataframe thead th {\n        text-align: right;\n    }\n</style>\n<table border=\"1\" class=\"dataframe\">\n  <thead>\n    <tr style=\"text-align: right;\">\n      <th></th>\n      <th>weekday</th>\n      <th>weekdayname</th>\n      <th>sum</th>\n      <th>mean</th>\n    </tr>\n  </thead>\n  <tbody>\n    <tr>\n      <th>0</th>\n      <td>0</td>\n      <td>Monday</td>\n      <td>82998956</td>\n      <td>5239.833081</td>\n    </tr>\n    <tr>\n      <th>1</th>\n      <td>1</td>\n      <td>Tuesday</td>\n      <td>85806660</td>\n      <td>5417.087121</td>\n    </tr>\n    <tr>\n      <th>2</th>\n      <td>2</td>\n      <td>Wednesday</td>\n      <td>86595926</td>\n      <td>5458.643848</td>\n    </tr>\n    <tr>\n      <th>3</th>\n      <td>3</td>\n      <td>Thursday</td>\n      <td>90788054</td>\n      <td>5722.898008</td>\n    </tr>\n    <tr>\n      <th>4</th>\n      <td>4</td>\n      <td>Friday</td>\n      <td>97117640</td>\n      <td>6121.888553</td>\n    </tr>\n    <tr>\n      <th>5</th>\n      <td>5</td>\n      <td>Saturday</td>\n      <td>123688038</td>\n      <td>7796.774962</td>\n    </tr>\n    <tr>\n      <th>6</th>\n      <td>6</td>\n      <td>Sunday</td>\n      <td>60763229</td>\n      <td>3830.259014</td>\n    </tr>\n  </tbody>\n</table>\n</div>"
     },
     "execution_count": 77,
     "metadata": {},
     "output_type": "execute_result"
    }
   ],
   "source": [
    "#Initialise a dictionary mapping the intervals, date format codes and resampling frequencies for us in functions and loops.\n",
    "time_intervals = {\n",
    "    \"interval\": [\"hours\", \"day\", \"week\", \"month\", \"year\"],\n",
    "    \"code\": [\"%H\", \"%a\", \"%W\", \"%b\", \"%y\"],\n",
    "    \"freq\": [\"H\", \"D\", \"W\", \"MS\", \"Y\"]\n",
    "}\n",
    "\n",
    "#function to create summary dataframes containing total footfall and mean of all footfall.\n",
    "def create_sum_df(data,time_dico):\n",
    "    df_dico = {}\n",
    "    for i,time in enumerate(time_dico['interval'][1:]):\n",
    "        data_resampled = data.set_index('DateTime').resample(time_dico['freq'][i]).sum()\n",
    "        if time == 'day':\n",
    "            data_resampled['weekday'] = data_resampled.index.dayofweek\n",
    "            data_resampled['weekdayname'] = data_resampled.index.day_name()\n",
    "            data_resampled = data_resampled.groupby(['weekday','weekdayname'])['Count'].agg(['sum','mean']).reset_index()\n",
    "        elif time == 'week':\n",
    "            data_resampled['weekno'] = data_resampled.index.isocalendar().week\n",
    "            data_resampled = data_resampled.groupby(['weekno'])['Count'].agg(['sum','mean'])\n",
    "        elif time == 'month':\n",
    "            data_resampled['month'] = data_resampled.index.month\n",
    "            data_resampled = data_resampled.groupby(['month'])['Count'].agg(['sum','mean'])\n",
    "        elif time == 'year':\n",
    "            data_resampled['year'] = data_resampled.index.year\n",
    "            data_resampled = data_resampled.groupby(['year'])['Count'].sum()\n",
    "\n",
    "        df_dico[time] = data_resampled\n",
    "    return df_dico\n",
    "\n",
    "df = create_sum_df(ffdf,time_intervals)['day']\n",
    "df\n"
   ],
   "metadata": {
    "collapsed": false,
    "pycharm": {
     "name": "#%%\n"
    }
   }
  },
  {
   "cell_type": "markdown",
   "source": [
    "The following are a series of bar charts showing the mean of total footfall counts across a series of categories.\n",
    "\n",
    "The first is mean footfall of all weekdays since the cutoff date of 27/08/2008 used as the starting point earlier."
   ],
   "metadata": {
    "collapsed": false,
    "pycharm": {
     "name": "#%% md\n"
    }
   }
  },
  {
   "cell_type": "code",
   "execution_count": 78,
   "outputs": [
    {
     "data": {
      "text/plain": "<Figure size 1440x720 with 1 Axes>",
      "image/png": "[encoded data removed]"
     },
     "metadata": {
      "needs_background": "light"
     },
     "output_type": "display_data"
    }
   ],
   "source": [
    "days = ffdf.copy()\n",
    "days = days.set_index('DateTime').resample('D').sum()\n",
    "days['weekday'] = days.index.day_of_week\n",
    "days['weekdayname'] = days.index.day_name()\n",
    "days = days.groupby(['weekday','weekdayname'])['Count'].agg(['sum','mean']).reset_index()\n",
    "days\n",
    "\n",
    "fig, ax = plt.subplots(1,1, figsize=(20, 10))\n",
    "\n",
    "ax.bar(days.weekdayname, days['mean'], color=\"black\", width=0.5)\n",
    "ax.set(title='Weekdays')\n",
    "ax.set_xticks(days.weekdayname)\n",
    "ax.set_ylabel(\"yaxis\")\n",
    "plt.show()\n",
    "\n",
    "\n"
   ],
   "metadata": {
    "collapsed": false,
    "pycharm": {
     "name": "#%%\n"
    }
   }
  },
  {
   "cell_type": "markdown",
   "source": [
    "Followed by mean of all months since 28/08/2008"
   ],
   "metadata": {
    "collapsed": false,
    "pycharm": {
     "name": "#%% md\n"
    }
   }
  },
  {
   "cell_type": "code",
   "execution_count": 79,
   "outputs": [
    {
     "data": {
      "text/plain": "<Figure size 1440x720 with 1 Axes>",
      "image/png": "[encoded data removed]"
     },
     "metadata": {
      "needs_background": "light"
     },
     "output_type": "display_data"
    }
   ],
   "source": [
    "months = ffdf.copy()\n",
    "months = months.set_index('DateTime').resample('MS').sum()\n",
    "months['month'] = months.index.month\n",
    "months['monthname'] = months.index.month_name()\n",
    "months = months.groupby(['month','monthname'])['Count'].agg(['sum','mean']).reset_index()\n",
    "months\n",
    "\n",
    "fig, ax = plt.subplots(1,1, figsize=(20, 10))\n",
    "\n",
    "ax.bar(months.monthname, months['mean'], color=\"black\", width=0.5)\n",
    "ax.set(title='months')\n",
    "ax.set_xticks(months.monthname)\n",
    "ax.set_ylabel(\"yaxis\")\n",
    "plt.show()"
   ],
   "metadata": {
    "collapsed": false,
    "pycharm": {
     "name": "#%%\n"
    }
   }
  },
  {
   "cell_type": "markdown",
   "source": [
    "Followed by total of all years since 28/08/2008."
   ],
   "metadata": {
    "collapsed": false
   }
  },
  {
   "cell_type": "code",
   "execution_count": 80,
   "outputs": [
    {
     "data": {
      "text/plain": "<Figure size 1440x720 with 1 Axes>",
      "image/png": "[encoded data removed]"
     },
     "metadata": {
      "needs_background": "light"
     },
     "output_type": "display_data"
    }
   ],
   "source": [
    "years = ffdf.copy()\n",
    "years = years.set_index('DateTime').resample('Y').sum()\n",
    "years['year'] = years.index.year\n",
    "years = years.groupby(['year'])['Count'].sum().reset_index()\n",
    "years\n",
    "\n",
    "fig, ax = plt.subplots(1,1, figsize=(20, 10))\n",
    "\n",
    "ax.bar(years.year, years['Count'], color=\"black\", width=0.5)\n",
    "ax.set(title='year')\n",
    "ax.set_xticks(years.year)\n",
    "ax.set_ylabel(\"yaxis\")\n",
    "plt.show()"
   ],
   "metadata": {
    "collapsed": false,
    "pycharm": {
     "name": "#%%\n"
    }
   }
  },
  {
   "cell_type": "markdown",
   "source": [
    "Initially tried to build charts above in a loop but couldn't get it to work, after experimenting individually I realised\n",
    "that it was because I was trying to apply date formatters and locators to non-datetime fields.\n",
    "Will fix the loop below so breakdown of time periods can be dynamically generated and expanded with less code."
   ],
   "metadata": {
    "collapsed": false,
    "pycharm": {
     "name": "#%% md\n"
    }
   }
  },
  {
   "cell_type": "code",
   "execution_count": 81,
   "outputs": [],
   "source": [
    "# time_intervals = {\n",
    "#     \"interval\": [\"hours\", \"day\", \"month\", \"year\"],\n",
    "#     \"code\": [\"%H\", \"%a\", \"%b\", \"%y\"],\n",
    "#     \"freq\": [\"H\", \"D\", \"MS\", \"Y\"],\n",
    "#     \"locator\" :[mdates.HourLocator,\n",
    "#                  mdates.WeekdayLocator,\n",
    "#                  mdates.MonthLocator,\n",
    "#                  mdates.YearLocator]\n",
    "# }\n",
    "#\n",
    "# fig, axes = plt.subplots(1, 3, figsize=(20, 10))\n",
    "#\n",
    "# for i, (ax, time) in enumerate(zip(axes.flatten(), time_intervals['interval'][1:])):\n",
    "#     #Construct data frame by filtering on year and grouping by month.\n",
    "#     data = create_sum_df(ffdf,time_intervals)[time]\n",
    "#     if time != 'year':\n",
    "#         ax.bar(data.index, data['mean'], color=\"black\", width=10)\n",
    "#     else:\n",
    "#         ax.bar(data.index, data, color=\"black\", width=10)\n",
    "#     ax.set(title=time)\n",
    "#     date_form = DateFormatter(time_intervals['code'][i])\n",
    "#     ax.xaxis.set_major_formatter(date_form)\n",
    "#     date_locator = time_intervals['locator'][i]()\n",
    "#     ax.xaxis.set_major_locator(date_locator)\n",
    "#     ax.set_ylabel(\"yaxis\")\n",
    "# #for i,(ax,time) in  enumerate(zip(axes.flatten(), time_intervals.keys())):\n",
    "# #ax.set_ylim(max_ylim)\n",
    "\n",
    "plt.show()"
   ],
   "metadata": {
    "collapsed": false,
    "pycharm": {
     "name": "#%%\n"
    }
   }
  },
  {
   "cell_type": "markdown",
   "source": [
    "The bar charts below show mean hourly footfall over each month for 2018-2021.  This has helped to identify gaps in\n",
    "the data so creating a more complete file.  It's also really interesting to see the immediate impacts lockdown had on\n",
    "footfall, even in late March when restrictions were only implemented in the very last week of the month.\n",
    "\n",
    "Would be good to quantify just how much footfall has fallen compared to the same months in previous years,\n",
    "also to see how much it fell compared to changes between months across the years."
   ],
   "metadata": {
    "collapsed": false,
    "pycharm": {
     "name": "#%% md\n"
    }
   }
  },
  {
   "cell_type": "code",
   "execution_count": 82,
   "outputs": [
    {
     "data": {
      "text/plain": "<Figure size 1440x720 with 4 Axes>",
      "image/png": "[encoded data removed]"
     },
     "metadata": {
      "needs_background": "light"
     },
     "output_type": "display_data"
    }
   ],
   "source": [
    "years_list = ['2018', '2019', '2020', '2021']\n",
    "\n",
    "fig, axes = plt.subplots(2, 2, figsize=(20, 10))\n",
    "fig.suptitle(\"Comparison of mean hourly footfall by month 2019 - 2021 (all cameras\")\n",
    "\n",
    "for i, (ax, year) in enumerate(zip(axes.flatten(), years_list)):\n",
    "    #Construct data frame by filtering on year and grouping by month.\n",
    "    data = ffdf.set_index('DateTime').loc[year].groupby(\n",
    "        [pd.Grouper(level=\"DateTime\",\n",
    "                    freq=\"MS\")]).aggregate(np.mean)\n",
    "\n",
    "    ax.bar(data.index, data.Count, color=\"black\", width=10)\n",
    "    ax.set(title=year)\n",
    "    date_form = DateFormatter(\"%b\")\n",
    "    ax.xaxis.set_major_formatter(date_form)\n",
    "    ax.xaxis.set_major_locator(mdates.MonthLocator(interval=1))\n",
    "    ax.set_ylabel(\"Mean hourly footfall\")\n",
    "    if i == 0:\n",
    "        max_ylim = ax.get_ylim()\n",
    "    elif ax.get_ylim()[1] > max_ylim[1]:\n",
    "        max_ylim = ax.get_ylim\n",
    "\n",
    "for i, (ax, year) in enumerate(zip(axes.flatten(), years_list)):\n",
    "    ax.set_ylim(max_ylim)\n",
    "\n",
    "plt.show()"
   ],
   "metadata": {
    "collapsed": false,
    "pycharm": {
     "name": "#%%\n"
    }
   }
  },
  {
   "cell_type": "code",
   "execution_count": 82,
   "outputs": [],
   "source": [],
   "metadata": {
    "collapsed": false,
    "pycharm": {
     "name": "#%%\n"
    }
   }
  }
 ],
 "metadata": {
  "kernelspec": {
   "display_name": "Python 3",
   "language": "python",
   "name": "python3"
  },
  "language_info": {
   "codemirror_mode": {
    "name": "ipython",
    "version": 3
   },
   "file_extension": ".py",
   "mimetype": "text/x-python",
   "name": "python",
   "nbconvert_exporter": "python",
   "pygments_lexer": "ipython3",
   "version": "3.8.8"
  }
 },
 "nbformat": 4,
 "nbformat_minor": 1
}